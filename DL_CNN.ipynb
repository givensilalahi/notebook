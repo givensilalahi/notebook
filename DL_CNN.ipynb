{
  "nbformat": 4,
  "nbformat_minor": 0,
  "metadata": {
    "colab": {
      "provenance": []
    },
    "kernelspec": {
      "name": "python3",
      "display_name": "Python 3"
    },
    "accelerator": "GPU"
  },
  "cells": [
    {
      "cell_type": "markdown",
      "metadata": {
        "id": "MSg0dsO7-L-W"
      },
      "source": [
        "# **IMPORT LIBRARY**"
      ]
    },
    {
      "cell_type": "code",
      "metadata": {
        "id": "aFa26J-093qQ",
        "outputId": "9268db65-357c-4c8b-e5fd-145602488f42",
        "colab": {
          "base_uri": "https://localhost:8080/",
          "height": 34
        }
      },
      "source": [
        "from keras.models import Sequential\n",
        "from keras.layers import Dense, Activation, Flatten, Conv2D, MaxPooling2D, BatchNormalization, Dropout\n",
        "from keras.optimizers import Adam\n",
        "\n",
        "\n",
        "import matplotlib.pyplot as plt\n",
        "import numpy as np"
      ],
      "execution_count": null,
      "outputs": [
        {
          "output_type": "stream",
          "text": [
            "Using TensorFlow backend.\n"
          ],
          "name": "stderr"
        }
      ]
    },
    {
      "cell_type": "code",
      "metadata": {
        "id": "8zltOEgvpBja"
      },
      "source": [],
      "execution_count": null,
      "outputs": []
    },
    {
      "cell_type": "markdown",
      "metadata": {
        "id": "RyHfXDq1-VKz"
      },
      "source": [
        "# **DATA COLLECTION**"
      ]
    },
    {
      "cell_type": "code",
      "metadata": {
        "id": "uBHZaPIg-T06",
        "outputId": "bc7aef61-287d-435f-ab81-2a2b75e92e94",
        "colab": {
          "base_uri": "https://localhost:8080/",
          "height": 51
        }
      },
      "source": [
        "from keras.datasets import cifar10\n",
        "\n",
        "(X_train, Y_train), (X_test, Y_test) = cifar10.load_data()"
      ],
      "execution_count": null,
      "outputs": [
        {
          "output_type": "stream",
          "text": [
            "Downloading data from https://www.cs.toronto.edu/~kriz/cifar-10-python.tar.gz\n",
            "170500096/170498071 [==============================] - 2s 0us/step\n"
          ],
          "name": "stdout"
        }
      ]
    },
    {
      "cell_type": "code",
      "metadata": {
        "id": "iTpLtWqRdxeM",
        "outputId": "4014b832-fa79-46fc-bea8-eb76b96dc1eb",
        "colab": {
          "base_uri": "https://localhost:8080/",
          "height": 850
        }
      },
      "source": [
        "X_train[3]"
      ],
      "execution_count": null,
      "outputs": [
        {
          "output_type": "execute_result",
          "data": {
            "text/plain": [
              "array([[[ 28,  25,  10],\n",
              "        [ 37,  34,  19],\n",
              "        [ 38,  35,  20],\n",
              "        ...,\n",
              "        [ 76,  67,  39],\n",
              "        [ 81,  72,  43],\n",
              "        [ 85,  76,  47]],\n",
              "\n",
              "       [[ 33,  28,  13],\n",
              "        [ 34,  30,  14],\n",
              "        [ 32,  27,  12],\n",
              "        ...,\n",
              "        [ 95,  82,  55],\n",
              "        [ 96,  82,  56],\n",
              "        [ 85,  72,  45]],\n",
              "\n",
              "       [[ 39,  32,  15],\n",
              "        [ 40,  33,  17],\n",
              "        [ 57,  50,  33],\n",
              "        ...,\n",
              "        [ 93,  76,  52],\n",
              "        [107,  89,  66],\n",
              "        [ 95,  77,  54]],\n",
              "\n",
              "       ...,\n",
              "\n",
              "       [[ 83,  73,  52],\n",
              "        [ 87,  77,  56],\n",
              "        [ 84,  74,  52],\n",
              "        ...,\n",
              "        [ 99,  93,  70],\n",
              "        [ 90,  84,  61],\n",
              "        [ 81,  75,  52]],\n",
              "\n",
              "       [[ 88,  72,  51],\n",
              "        [ 90,  74,  52],\n",
              "        [ 93,  77,  56],\n",
              "        ...,\n",
              "        [ 80,  74,  53],\n",
              "        [ 76,  70,  49],\n",
              "        [ 82,  76,  55]],\n",
              "\n",
              "       [[ 97,  78,  56],\n",
              "        [ 94,  75,  53],\n",
              "        [ 93,  75,  53],\n",
              "        ...,\n",
              "        [ 54,  47,  28],\n",
              "        [ 63,  56,  37],\n",
              "        [ 72,  65,  46]]], dtype=uint8)"
            ]
          },
          "metadata": {
            "tags": []
          },
          "execution_count": 4
        }
      ]
    },
    {
      "cell_type": "code",
      "metadata": {
        "id": "DjTGmWN0e-4X",
        "outputId": "a20ed3f1-58c1-4262-cde6-f952cdf05d65",
        "colab": {
          "base_uri": "https://localhost:8080/",
          "height": 34
        }
      },
      "source": [
        "X_train.shape"
      ],
      "execution_count": null,
      "outputs": [
        {
          "output_type": "execute_result",
          "data": {
            "text/plain": [
              "(50000, 32, 32, 3)"
            ]
          },
          "metadata": {
            "tags": []
          },
          "execution_count": 3
        }
      ]
    },
    {
      "cell_type": "markdown",
      "metadata": {
        "id": "wkd2NxAc_PJ1"
      },
      "source": [
        "# **DATA PREPROCESSING**"
      ]
    },
    {
      "cell_type": "code",
      "metadata": {
        "id": "y5q-DU7E_IBn"
      },
      "source": [
        "# # Normalize\n",
        "\n",
        "# X_train = X_train / 255.0\n",
        "# X_test = X_test / 255.0"
      ],
      "execution_count": null,
      "outputs": []
    },
    {
      "cell_type": "code",
      "metadata": {
        "id": "-FXLC9tQ_VGB"
      },
      "source": [
        "from keras.utils import to_categorical\n",
        "\n",
        "#Categorical\n",
        "Y_train = to_categorical(Y_train)\n",
        "Y_test = to_categorical(Y_test)"
      ],
      "execution_count": null,
      "outputs": []
    },
    {
      "cell_type": "code",
      "metadata": {
        "id": "GK1vFWgwBqVP",
        "outputId": "59bfb960-0a2f-45a5-a978-4894788a595d",
        "colab": {
          "base_uri": "https://localhost:8080/",
          "height": 34
        }
      },
      "source": [
        "Y_test[1]"
      ],
      "execution_count": null,
      "outputs": [
        {
          "output_type": "execute_result",
          "data": {
            "text/plain": [
              "array([0., 0., 0., 0., 0., 0., 0., 0., 1., 0.], dtype=float32)"
            ]
          },
          "metadata": {
            "tags": []
          },
          "execution_count": 7
        }
      ]
    },
    {
      "cell_type": "markdown",
      "metadata": {
        "id": "x3q-1A30Bott"
      },
      "source": [
        "# **MODEL DESIGN**\n",
        "\n",
        "*   **Convolution Neural Network**\n",
        "\n"
      ]
    },
    {
      "cell_type": "code",
      "metadata": {
        "id": "yB1bwDtFQv5i",
        "outputId": "707be575-d440-4c63-aa50-37b784030349",
        "colab": {
          "base_uri": "https://localhost:8080/",
          "height": 258
        }
      },
      "source": [
        "input_shape = X_train.shape[1:]\n",
        "model = Sequential()\n",
        "model.add(Conv2D(32, (3,3), strides=2, padding='same',\n",
        "                 activation='relu', input_shape = input_shape))\n",
        "model.add(MaxPooling2D(pool_size=2, strides=2))\n",
        "model.add(Conv2D(64, (3,3), strides=2, padding='same',\n",
        "                 activation='relu'))\n",
        "model.add(MaxPooling2D(pool_size=2, strides=2))\n",
        "model.add(Flatten())\n",
        "model.add(Dense(512, activation='relu'))\n",
        "model.add(Dropout(0.5))\n",
        "model.add(Dense(128, activation='relu'))\n",
        "model.add(Dense(10, activation='softmax'))"
      ],
      "execution_count": null,
      "outputs": [
        {
          "output_type": "stream",
          "text": [
            "WARNING:tensorflow:From /usr/local/lib/python3.6/dist-packages/keras/backend/tensorflow_backend.py:66: The name tf.get_default_graph is deprecated. Please use tf.compat.v1.get_default_graph instead.\n",
            "\n",
            "WARNING:tensorflow:From /usr/local/lib/python3.6/dist-packages/keras/backend/tensorflow_backend.py:541: The name tf.placeholder is deprecated. Please use tf.compat.v1.placeholder instead.\n",
            "\n",
            "WARNING:tensorflow:From /usr/local/lib/python3.6/dist-packages/keras/backend/tensorflow_backend.py:4432: The name tf.random_uniform is deprecated. Please use tf.random.uniform instead.\n",
            "\n",
            "WARNING:tensorflow:From /usr/local/lib/python3.6/dist-packages/keras/backend/tensorflow_backend.py:4267: The name tf.nn.max_pool is deprecated. Please use tf.nn.max_pool2d instead.\n",
            "\n",
            "WARNING:tensorflow:From /usr/local/lib/python3.6/dist-packages/keras/backend/tensorflow_backend.py:148: The name tf.placeholder_with_default is deprecated. Please use tf.compat.v1.placeholder_with_default instead.\n",
            "\n",
            "WARNING:tensorflow:From /usr/local/lib/python3.6/dist-packages/keras/backend/tensorflow_backend.py:3733: calling dropout (from tensorflow.python.ops.nn_ops) with keep_prob is deprecated and will be removed in a future version.\n",
            "Instructions for updating:\n",
            "Please use `rate` instead of `keep_prob`. Rate should be set to `rate = 1 - keep_prob`.\n"
          ],
          "name": "stdout"
        }
      ]
    },
    {
      "cell_type": "code",
      "metadata": {
        "id": "EuB_BxGwCIwJ",
        "outputId": "b60d4ea3-3dd6-4373-f9b3-32af2eaf6cd7",
        "colab": {
          "base_uri": "https://localhost:8080/",
          "height": 459
        }
      },
      "source": [
        "model.summary()"
      ],
      "execution_count": null,
      "outputs": [
        {
          "output_type": "stream",
          "text": [
            "Model: \"sequential_1\"\n",
            "_________________________________________________________________\n",
            "Layer (type)                 Output Shape              Param #   \n",
            "=================================================================\n",
            "conv2d_1 (Conv2D)            (None, 16, 16, 32)        896       \n",
            "_________________________________________________________________\n",
            "max_pooling2d_1 (MaxPooling2 (None, 8, 8, 32)          0         \n",
            "_________________________________________________________________\n",
            "conv2d_2 (Conv2D)            (None, 4, 4, 64)          18496     \n",
            "_________________________________________________________________\n",
            "max_pooling2d_2 (MaxPooling2 (None, 2, 2, 64)          0         \n",
            "_________________________________________________________________\n",
            "flatten_1 (Flatten)          (None, 256)               0         \n",
            "_________________________________________________________________\n",
            "dense_1 (Dense)              (None, 512)               131584    \n",
            "_________________________________________________________________\n",
            "dropout_1 (Dropout)          (None, 512)               0         \n",
            "_________________________________________________________________\n",
            "dense_2 (Dense)              (None, 128)               65664     \n",
            "_________________________________________________________________\n",
            "dense_3 (Dense)              (None, 10)                1290      \n",
            "=================================================================\n",
            "Total params: 217,930\n",
            "Trainable params: 217,930\n",
            "Non-trainable params: 0\n",
            "_________________________________________________________________\n"
          ],
          "name": "stdout"
        }
      ]
    },
    {
      "cell_type": "code",
      "metadata": {
        "id": "QwU0WLSeCa5_",
        "outputId": "49574d05-64aa-441e-c8a3-fdb32ce1bc9c",
        "colab": {
          "base_uri": "https://localhost:8080/",
          "height": 85
        }
      },
      "source": [
        "model.compile(optimizer='adam',\n",
        "                  loss='categorical_crossentropy',\n",
        "                  metrics=['accuracy'])"
      ],
      "execution_count": null,
      "outputs": [
        {
          "output_type": "stream",
          "text": [
            "WARNING:tensorflow:From /usr/local/lib/python3.6/dist-packages/keras/optimizers.py:793: The name tf.train.Optimizer is deprecated. Please use tf.compat.v1.train.Optimizer instead.\n",
            "\n",
            "WARNING:tensorflow:From /usr/local/lib/python3.6/dist-packages/keras/backend/tensorflow_backend.py:3576: The name tf.log is deprecated. Please use tf.math.log instead.\n",
            "\n"
          ],
          "name": "stdout"
        }
      ]
    },
    {
      "cell_type": "markdown",
      "metadata": {
        "id": "DMLlsZDmCQb0"
      },
      "source": [
        "# **MODEL TRAINING**"
      ]
    },
    {
      "cell_type": "code",
      "metadata": {
        "id": "xIlYz-nGCNi2",
        "outputId": "6be22664-ec36-4019-d2c7-801a8cc100ef",
        "colab": {
          "base_uri": "https://localhost:8080/",
          "height": 1000
        }
      },
      "source": [
        "hist = model.fit(X_train, Y_train,\n",
        "                epochs=100,\n",
        "                batch_size=1000,\n",
        "                shuffle=True,\n",
        "                validation_data=(X_test, Y_test))"
      ],
      "execution_count": null,
      "outputs": [
        {
          "output_type": "stream",
          "text": [
            "WARNING:tensorflow:From /usr/local/lib/python3.6/dist-packages/tensorflow_core/python/ops/math_grad.py:1424: where (from tensorflow.python.ops.array_ops) is deprecated and will be removed in a future version.\n",
            "Instructions for updating:\n",
            "Use tf.where in 2.0, which has the same broadcast rule as np.where\n",
            "WARNING:tensorflow:From /usr/local/lib/python3.6/dist-packages/keras/backend/tensorflow_backend.py:1033: The name tf.assign_add is deprecated. Please use tf.compat.v1.assign_add instead.\n",
            "\n",
            "WARNING:tensorflow:From /usr/local/lib/python3.6/dist-packages/keras/backend/tensorflow_backend.py:1020: The name tf.assign is deprecated. Please use tf.compat.v1.assign instead.\n",
            "\n",
            "WARNING:tensorflow:From /usr/local/lib/python3.6/dist-packages/keras/backend/tensorflow_backend.py:3005: The name tf.Session is deprecated. Please use tf.compat.v1.Session instead.\n",
            "\n",
            "Train on 50000 samples, validate on 10000 samples\n",
            "Epoch 1/100\n",
            "WARNING:tensorflow:From /usr/local/lib/python3.6/dist-packages/keras/backend/tensorflow_backend.py:190: The name tf.get_default_session is deprecated. Please use tf.compat.v1.get_default_session instead.\n",
            "\n",
            "WARNING:tensorflow:From /usr/local/lib/python3.6/dist-packages/keras/backend/tensorflow_backend.py:197: The name tf.ConfigProto is deprecated. Please use tf.compat.v1.ConfigProto instead.\n",
            "\n",
            "WARNING:tensorflow:From /usr/local/lib/python3.6/dist-packages/keras/backend/tensorflow_backend.py:207: The name tf.global_variables is deprecated. Please use tf.compat.v1.global_variables instead.\n",
            "\n",
            "WARNING:tensorflow:From /usr/local/lib/python3.6/dist-packages/keras/backend/tensorflow_backend.py:216: The name tf.is_variable_initialized is deprecated. Please use tf.compat.v1.is_variable_initialized instead.\n",
            "\n",
            "WARNING:tensorflow:From /usr/local/lib/python3.6/dist-packages/keras/backend/tensorflow_backend.py:223: The name tf.variables_initializer is deprecated. Please use tf.compat.v1.variables_initializer instead.\n",
            "\n",
            "50000/50000 [==============================] - 10s 196us/step - loss: 5.9642 - acc: 0.1394 - val_loss: 2.1901 - val_acc: 0.1842\n",
            "Epoch 2/100\n",
            "50000/50000 [==============================] - 2s 37us/step - loss: 2.0741 - acc: 0.2254 - val_loss: 1.8653 - val_acc: 0.3128\n",
            "Epoch 3/100\n",
            "50000/50000 [==============================] - 2s 37us/step - loss: 1.8455 - acc: 0.3143 - val_loss: 1.7281 - val_acc: 0.3601\n",
            "Epoch 4/100\n",
            "50000/50000 [==============================] - 2s 36us/step - loss: 1.7239 - acc: 0.3658 - val_loss: 1.6379 - val_acc: 0.3963\n",
            "Epoch 5/100\n",
            "50000/50000 [==============================] - 2s 37us/step - loss: 1.6463 - acc: 0.3950 - val_loss: 1.5822 - val_acc: 0.4159\n",
            "Epoch 6/100\n",
            "50000/50000 [==============================] - 2s 37us/step - loss: 1.5865 - acc: 0.4196 - val_loss: 1.5177 - val_acc: 0.4434\n",
            "Epoch 7/100\n",
            "50000/50000 [==============================] - 2s 37us/step - loss: 1.5251 - acc: 0.4472 - val_loss: 1.4807 - val_acc: 0.4587\n",
            "Epoch 8/100\n",
            "50000/50000 [==============================] - 2s 36us/step - loss: 1.4766 - acc: 0.4624 - val_loss: 1.4471 - val_acc: 0.4786\n",
            "Epoch 9/100\n",
            "50000/50000 [==============================] - 2s 36us/step - loss: 1.4399 - acc: 0.4768 - val_loss: 1.4235 - val_acc: 0.4883\n",
            "Epoch 10/100\n",
            "50000/50000 [==============================] - 2s 36us/step - loss: 1.4226 - acc: 0.4854 - val_loss: 1.3932 - val_acc: 0.4967\n",
            "Epoch 11/100\n",
            "50000/50000 [==============================] - 2s 36us/step - loss: 1.3793 - acc: 0.5032 - val_loss: 1.3788 - val_acc: 0.4984\n",
            "Epoch 12/100\n",
            "50000/50000 [==============================] - 2s 36us/step - loss: 1.3531 - acc: 0.5136 - val_loss: 1.3512 - val_acc: 0.5132\n",
            "Epoch 13/100\n",
            "50000/50000 [==============================] - 2s 36us/step - loss: 1.3331 - acc: 0.5200 - val_loss: 1.3382 - val_acc: 0.5198\n",
            "Epoch 14/100\n",
            "50000/50000 [==============================] - 2s 35us/step - loss: 1.2961 - acc: 0.5328 - val_loss: 1.3316 - val_acc: 0.5211\n",
            "Epoch 15/100\n",
            "50000/50000 [==============================] - 2s 35us/step - loss: 1.2730 - acc: 0.5429 - val_loss: 1.3130 - val_acc: 0.5232\n",
            "Epoch 16/100\n",
            "50000/50000 [==============================] - 2s 35us/step - loss: 1.2496 - acc: 0.5520 - val_loss: 1.2887 - val_acc: 0.5359\n",
            "Epoch 17/100\n",
            "50000/50000 [==============================] - 2s 34us/step - loss: 1.2243 - acc: 0.5594 - val_loss: 1.2717 - val_acc: 0.5412\n",
            "Epoch 18/100\n",
            "50000/50000 [==============================] - 2s 34us/step - loss: 1.1989 - acc: 0.5682 - val_loss: 1.2514 - val_acc: 0.5528\n",
            "Epoch 19/100\n",
            "50000/50000 [==============================] - 2s 34us/step - loss: 1.1734 - acc: 0.5797 - val_loss: 1.2706 - val_acc: 0.5459\n",
            "Epoch 20/100\n",
            "50000/50000 [==============================] - 2s 34us/step - loss: 1.1635 - acc: 0.5819 - val_loss: 1.2380 - val_acc: 0.5594\n",
            "Epoch 21/100\n",
            "50000/50000 [==============================] - 2s 34us/step - loss: 1.1381 - acc: 0.5924 - val_loss: 1.2360 - val_acc: 0.5596\n",
            "Epoch 22/100\n",
            "50000/50000 [==============================] - 2s 34us/step - loss: 1.1237 - acc: 0.5983 - val_loss: 1.2398 - val_acc: 0.5613\n",
            "Epoch 23/100\n",
            "50000/50000 [==============================] - 2s 35us/step - loss: 1.1128 - acc: 0.6007 - val_loss: 1.2101 - val_acc: 0.5693\n",
            "Epoch 24/100\n",
            "50000/50000 [==============================] - 2s 35us/step - loss: 1.0767 - acc: 0.6130 - val_loss: 1.2048 - val_acc: 0.5740\n",
            "Epoch 25/100\n",
            "50000/50000 [==============================] - 2s 34us/step - loss: 1.0637 - acc: 0.6182 - val_loss: 1.1888 - val_acc: 0.5795\n",
            "Epoch 26/100\n",
            "50000/50000 [==============================] - 2s 34us/step - loss: 1.0404 - acc: 0.6254 - val_loss: 1.2090 - val_acc: 0.5748\n",
            "Epoch 27/100\n",
            "50000/50000 [==============================] - 2s 35us/step - loss: 1.0393 - acc: 0.6259 - val_loss: 1.1853 - val_acc: 0.5747\n",
            "Epoch 28/100\n",
            "50000/50000 [==============================] - 2s 34us/step - loss: 1.0241 - acc: 0.6322 - val_loss: 1.1885 - val_acc: 0.5784\n",
            "Epoch 29/100\n",
            "50000/50000 [==============================] - 2s 34us/step - loss: 0.9995 - acc: 0.6403 - val_loss: 1.1978 - val_acc: 0.5785\n",
            "Epoch 30/100\n",
            "50000/50000 [==============================] - 2s 34us/step - loss: 0.9853 - acc: 0.6455 - val_loss: 1.1911 - val_acc: 0.5813\n",
            "Epoch 31/100\n",
            "50000/50000 [==============================] - 2s 34us/step - loss: 0.9773 - acc: 0.6460 - val_loss: 1.2005 - val_acc: 0.5779\n",
            "Epoch 32/100\n",
            "50000/50000 [==============================] - 2s 34us/step - loss: 0.9543 - acc: 0.6573 - val_loss: 1.2246 - val_acc: 0.5782\n",
            "Epoch 33/100\n",
            "50000/50000 [==============================] - 2s 34us/step - loss: 0.9403 - acc: 0.6595 - val_loss: 1.1877 - val_acc: 0.5861\n",
            "Epoch 34/100\n",
            "50000/50000 [==============================] - 2s 34us/step - loss: 0.9247 - acc: 0.6688 - val_loss: 1.1853 - val_acc: 0.5865\n",
            "Epoch 35/100\n",
            "50000/50000 [==============================] - 2s 34us/step - loss: 0.9095 - acc: 0.6716 - val_loss: 1.1850 - val_acc: 0.5876\n",
            "Epoch 36/100\n",
            "50000/50000 [==============================] - 2s 34us/step - loss: 0.8986 - acc: 0.6765 - val_loss: 1.1966 - val_acc: 0.5878\n",
            "Epoch 37/100\n",
            "50000/50000 [==============================] - 2s 34us/step - loss: 0.8880 - acc: 0.6804 - val_loss: 1.1776 - val_acc: 0.5913\n",
            "Epoch 38/100\n",
            "50000/50000 [==============================] - 2s 34us/step - loss: 0.8690 - acc: 0.6888 - val_loss: 1.1792 - val_acc: 0.5961\n",
            "Epoch 39/100\n",
            "50000/50000 [==============================] - 2s 34us/step - loss: 0.8699 - acc: 0.6866 - val_loss: 1.1925 - val_acc: 0.5902\n",
            "Epoch 40/100\n",
            "50000/50000 [==============================] - 2s 34us/step - loss: 0.8492 - acc: 0.6934 - val_loss: 1.1774 - val_acc: 0.5967\n",
            "Epoch 41/100\n",
            "50000/50000 [==============================] - 2s 34us/step - loss: 0.8462 - acc: 0.6943 - val_loss: 1.1829 - val_acc: 0.5937\n",
            "Epoch 42/100\n",
            "50000/50000 [==============================] - 2s 34us/step - loss: 0.8299 - acc: 0.6988 - val_loss: 1.1930 - val_acc: 0.5919\n",
            "Epoch 43/100\n",
            "50000/50000 [==============================] - 2s 34us/step - loss: 0.8136 - acc: 0.7064 - val_loss: 1.2083 - val_acc: 0.5966\n",
            "Epoch 44/100\n",
            "50000/50000 [==============================] - 2s 34us/step - loss: 0.8035 - acc: 0.7112 - val_loss: 1.1897 - val_acc: 0.5973\n",
            "Epoch 45/100\n",
            "50000/50000 [==============================] - 2s 34us/step - loss: 0.7969 - acc: 0.7155 - val_loss: 1.2163 - val_acc: 0.5958\n",
            "Epoch 46/100\n",
            "50000/50000 [==============================] - 2s 34us/step - loss: 0.7853 - acc: 0.7164 - val_loss: 1.2077 - val_acc: 0.5907\n",
            "Epoch 47/100\n",
            "50000/50000 [==============================] - 2s 34us/step - loss: 0.7717 - acc: 0.7208 - val_loss: 1.2277 - val_acc: 0.5930\n",
            "Epoch 48/100\n",
            "50000/50000 [==============================] - 2s 34us/step - loss: 0.7656 - acc: 0.7237 - val_loss: 1.2219 - val_acc: 0.5997\n",
            "Epoch 49/100\n",
            "50000/50000 [==============================] - 2s 34us/step - loss: 0.7521 - acc: 0.7274 - val_loss: 1.2216 - val_acc: 0.5943\n",
            "Epoch 50/100\n",
            "50000/50000 [==============================] - 2s 34us/step - loss: 0.7472 - acc: 0.7277 - val_loss: 1.2038 - val_acc: 0.5930\n",
            "Epoch 51/100\n",
            "50000/50000 [==============================] - 2s 35us/step - loss: 0.7386 - acc: 0.7317 - val_loss: 1.2346 - val_acc: 0.5986\n",
            "Epoch 52/100\n",
            "50000/50000 [==============================] - 2s 34us/step - loss: 0.7418 - acc: 0.7304 - val_loss: 1.2487 - val_acc: 0.5942\n",
            "Epoch 53/100\n",
            "50000/50000 [==============================] - 2s 34us/step - loss: 0.7293 - acc: 0.7368 - val_loss: 1.2688 - val_acc: 0.5906\n",
            "Epoch 54/100\n",
            "50000/50000 [==============================] - 2s 34us/step - loss: 0.7141 - acc: 0.7413 - val_loss: 1.2530 - val_acc: 0.5913\n",
            "Epoch 55/100\n",
            "50000/50000 [==============================] - 2s 34us/step - loss: 0.7025 - acc: 0.7446 - val_loss: 1.2492 - val_acc: 0.5983\n",
            "Epoch 56/100\n",
            "50000/50000 [==============================] - 2s 34us/step - loss: 0.6840 - acc: 0.7524 - val_loss: 1.2485 - val_acc: 0.5991\n",
            "Epoch 57/100\n",
            "50000/50000 [==============================] - 2s 34us/step - loss: 0.6832 - acc: 0.7516 - val_loss: 1.2456 - val_acc: 0.5947\n",
            "Epoch 58/100\n",
            "50000/50000 [==============================] - 2s 34us/step - loss: 0.6728 - acc: 0.7527 - val_loss: 1.2696 - val_acc: 0.5968\n",
            "Epoch 59/100\n",
            "50000/50000 [==============================] - 2s 34us/step - loss: 0.6741 - acc: 0.7551 - val_loss: 1.2963 - val_acc: 0.5957\n",
            "Epoch 60/100\n",
            "50000/50000 [==============================] - 2s 34us/step - loss: 0.6646 - acc: 0.7578 - val_loss: 1.2778 - val_acc: 0.5985\n",
            "Epoch 61/100\n",
            "50000/50000 [==============================] - 2s 34us/step - loss: 0.6568 - acc: 0.7601 - val_loss: 1.2713 - val_acc: 0.5988\n",
            "Epoch 62/100\n",
            "50000/50000 [==============================] - 2s 34us/step - loss: 0.6461 - acc: 0.7653 - val_loss: 1.2893 - val_acc: 0.5986\n",
            "Epoch 63/100\n",
            "50000/50000 [==============================] - 2s 34us/step - loss: 0.6530 - acc: 0.7623 - val_loss: 1.3067 - val_acc: 0.5964\n",
            "Epoch 64/100\n",
            "50000/50000 [==============================] - 2s 34us/step - loss: 0.6432 - acc: 0.7654 - val_loss: 1.3114 - val_acc: 0.5948\n",
            "Epoch 65/100\n",
            "50000/50000 [==============================] - 2s 34us/step - loss: 0.6329 - acc: 0.7691 - val_loss: 1.3174 - val_acc: 0.6018\n",
            "Epoch 66/100\n",
            "50000/50000 [==============================] - 2s 35us/step - loss: 0.6322 - acc: 0.7687 - val_loss: 1.3202 - val_acc: 0.6007\n",
            "Epoch 67/100\n",
            "50000/50000 [==============================] - 2s 34us/step - loss: 0.6287 - acc: 0.7697 - val_loss: 1.3312 - val_acc: 0.5993\n",
            "Epoch 68/100\n",
            "50000/50000 [==============================] - 2s 34us/step - loss: 0.6167 - acc: 0.7761 - val_loss: 1.3215 - val_acc: 0.6057\n",
            "Epoch 69/100\n",
            "50000/50000 [==============================] - 2s 34us/step - loss: 0.6096 - acc: 0.7765 - val_loss: 1.3494 - val_acc: 0.5982\n",
            "Epoch 70/100\n",
            "50000/50000 [==============================] - 2s 34us/step - loss: 0.5982 - acc: 0.7817 - val_loss: 1.3165 - val_acc: 0.5993\n",
            "Epoch 71/100\n",
            "50000/50000 [==============================] - 2s 33us/step - loss: 0.6037 - acc: 0.7805 - val_loss: 1.3513 - val_acc: 0.5949\n",
            "Epoch 72/100\n",
            "50000/50000 [==============================] - 2s 33us/step - loss: 0.6109 - acc: 0.7768 - val_loss: 1.3783 - val_acc: 0.6001\n",
            "Epoch 73/100\n",
            "50000/50000 [==============================] - 2s 34us/step - loss: 0.5942 - acc: 0.7837 - val_loss: 1.3403 - val_acc: 0.6017\n",
            "Epoch 74/100\n",
            "50000/50000 [==============================] - 2s 34us/step - loss: 0.5774 - acc: 0.7872 - val_loss: 1.3646 - val_acc: 0.6006\n",
            "Epoch 75/100\n",
            "50000/50000 [==============================] - 2s 34us/step - loss: 0.5686 - acc: 0.7921 - val_loss: 1.3592 - val_acc: 0.6017\n",
            "Epoch 76/100\n",
            "50000/50000 [==============================] - 2s 34us/step - loss: 0.5822 - acc: 0.7878 - val_loss: 1.3851 - val_acc: 0.5965\n",
            "Epoch 77/100\n",
            "50000/50000 [==============================] - 2s 34us/step - loss: 0.5603 - acc: 0.7929 - val_loss: 1.3909 - val_acc: 0.6035\n",
            "Epoch 78/100\n",
            "50000/50000 [==============================] - 2s 34us/step - loss: 0.5669 - acc: 0.7927 - val_loss: 1.3700 - val_acc: 0.5960\n",
            "Epoch 79/100\n",
            "50000/50000 [==============================] - 2s 35us/step - loss: 0.5590 - acc: 0.7946 - val_loss: 1.3947 - val_acc: 0.6003\n",
            "Epoch 80/100\n",
            "50000/50000 [==============================] - 2s 34us/step - loss: 0.5464 - acc: 0.8000 - val_loss: 1.4275 - val_acc: 0.5992\n",
            "Epoch 81/100\n",
            "50000/50000 [==============================] - 2s 34us/step - loss: 0.5501 - acc: 0.7992 - val_loss: 1.4207 - val_acc: 0.5982\n",
            "Epoch 82/100\n",
            "50000/50000 [==============================] - 2s 34us/step - loss: 0.5423 - acc: 0.8009 - val_loss: 1.4155 - val_acc: 0.5993\n",
            "Epoch 83/100\n",
            "50000/50000 [==============================] - 2s 34us/step - loss: 0.5295 - acc: 0.8045 - val_loss: 1.4340 - val_acc: 0.5993\n",
            "Epoch 84/100\n",
            "50000/50000 [==============================] - 2s 35us/step - loss: 0.5333 - acc: 0.8038 - val_loss: 1.4159 - val_acc: 0.6021\n",
            "Epoch 85/100\n",
            "50000/50000 [==============================] - 2s 34us/step - loss: 0.5298 - acc: 0.8074 - val_loss: 1.4631 - val_acc: 0.5969\n",
            "Epoch 86/100\n",
            "50000/50000 [==============================] - 2s 34us/step - loss: 0.5162 - acc: 0.8106 - val_loss: 1.4698 - val_acc: 0.5981\n",
            "Epoch 87/100\n",
            "50000/50000 [==============================] - 2s 34us/step - loss: 0.5262 - acc: 0.8086 - val_loss: 1.4327 - val_acc: 0.5964\n",
            "Epoch 88/100\n",
            "50000/50000 [==============================] - 2s 34us/step - loss: 0.5203 - acc: 0.8099 - val_loss: 1.4827 - val_acc: 0.5929\n",
            "Epoch 89/100\n",
            "50000/50000 [==============================] - 2s 34us/step - loss: 0.5161 - acc: 0.8114 - val_loss: 1.4760 - val_acc: 0.5994\n",
            "Epoch 90/100\n",
            "50000/50000 [==============================] - 2s 33us/step - loss: 0.5069 - acc: 0.8149 - val_loss: 1.4638 - val_acc: 0.6002\n",
            "Epoch 91/100\n",
            "50000/50000 [==============================] - 2s 34us/step - loss: 0.5104 - acc: 0.8139 - val_loss: 1.4882 - val_acc: 0.6028\n",
            "Epoch 92/100\n",
            "50000/50000 [==============================] - 2s 34us/step - loss: 0.5009 - acc: 0.8146 - val_loss: 1.5388 - val_acc: 0.5988\n",
            "Epoch 93/100\n",
            "50000/50000 [==============================] - 2s 34us/step - loss: 0.5031 - acc: 0.8161 - val_loss: 1.4805 - val_acc: 0.6003\n",
            "Epoch 94/100\n",
            "50000/50000 [==============================] - 2s 34us/step - loss: 0.4938 - acc: 0.8201 - val_loss: 1.5014 - val_acc: 0.5975\n",
            "Epoch 95/100\n",
            "50000/50000 [==============================] - 2s 34us/step - loss: 0.4870 - acc: 0.8219 - val_loss: 1.4980 - val_acc: 0.5999\n",
            "Epoch 96/100\n",
            "50000/50000 [==============================] - 2s 34us/step - loss: 0.4888 - acc: 0.8199 - val_loss: 1.5178 - val_acc: 0.5992\n",
            "Epoch 97/100\n",
            "50000/50000 [==============================] - 2s 35us/step - loss: 0.4905 - acc: 0.8193 - val_loss: 1.5370 - val_acc: 0.5983\n",
            "Epoch 98/100\n",
            "50000/50000 [==============================] - 2s 35us/step - loss: 0.4909 - acc: 0.8199 - val_loss: 1.5504 - val_acc: 0.5952\n",
            "Epoch 99/100\n",
            "50000/50000 [==============================] - 2s 35us/step - loss: 0.4730 - acc: 0.8254 - val_loss: 1.5019 - val_acc: 0.6007\n",
            "Epoch 100/100\n",
            "50000/50000 [==============================] - 2s 35us/step - loss: 0.4749 - acc: 0.8262 - val_loss: 1.5205 - val_acc: 0.6003\n"
          ],
          "name": "stdout"
        }
      ]
    },
    {
      "cell_type": "markdown",
      "metadata": {
        "id": "vK40NbLMCl8R"
      },
      "source": [
        "# **MODEL EVALUATION**"
      ]
    },
    {
      "cell_type": "code",
      "metadata": {
        "id": "5g3S_ytYCkOM",
        "outputId": "674421d7-08b6-4ad8-a7b0-d1e1cb41bfd2",
        "colab": {
          "base_uri": "https://localhost:8080/",
          "height": 51
        }
      },
      "source": [
        "score = model.evaluate(X_test, Y_test)\n",
        "print(\"Accuracy: \", score[1]*100, \"%\")"
      ],
      "execution_count": null,
      "outputs": [
        {
          "output_type": "stream",
          "text": [
            "10000/10000 [==============================] - 1s 82us/step\n",
            "Accuracy:  60.029999999999994 %\n"
          ],
          "name": "stdout"
        }
      ]
    },
    {
      "cell_type": "code",
      "metadata": {
        "id": "K9OegdgE9Dgr",
        "outputId": "c21011ee-7684-4929-f33f-92b34d311cfe",
        "colab": {
          "base_uri": "https://localhost:8080/",
          "height": 269
        }
      },
      "source": [
        "#Show accuracy graph\n",
        "plt.plot(hist.history['acc'])\n",
        "plt.plot(hist.history['val_acc'])\n",
        "plt.legend(['Acc', 'Val_acc'])\n",
        "plt.show()"
      ],
      "execution_count": null,
      "outputs": [
        {
          "output_type": "display_data",
          "data": {
            "image/png": "[encoded data removed]",
            "text/plain": [
              "<Figure size 432x288 with 1 Axes>"
            ]
          },
          "metadata": {
            "tags": []
          }
        }
      ]
    },
    {
      "cell_type": "code",
      "metadata": {
        "id": "ROLkCGt89QGV",
        "outputId": "80986ea0-ca2b-442d-ea3b-70d55bc67eee",
        "colab": {
          "base_uri": "https://localhost:8080/",
          "height": 269
        }
      },
      "source": [
        "#Show error value graph\n",
        "plt.plot(hist.history['loss'])\n",
        "plt.plot(hist.history['val_loss'])\n",
        "plt.legend(['Loss', 'Val_loss'])\n",
        "plt.show()"
      ],
      "execution_count": null,
      "outputs": [
        {
          "output_type": "display_data",
          "data": {
            "image/png": "[encoded data removed]",
            "text/plain": [
              "<Figure size 432x288 with 1 Axes>"
            ]
          },
          "metadata": {
            "tags": []
          }
        }
      ]
    },
    {
      "cell_type": "markdown",
      "metadata": {
        "id": "GT_82Gw8C92R"
      },
      "source": [
        "# **PREDICT**"
      ]
    },
    {
      "cell_type": "code",
      "metadata": {
        "id": "aDNsZLuTFW3r"
      },
      "source": [
        "dict_label = {0:'airplane', 1:'automobile', 2:'bird',\n",
        "              3:'cat', 4:'deer', 5:'dog',\n",
        "              6:'frog', 7:'horse', 8:'ship', 9:'truck'}\n",
        "def predict():\n",
        "  some_random_number = np.random.randint(low = 0, high = len(X_test)-1, size=4)\n",
        "  sample_images = X_train[some_random_number]\n",
        "  sample_label = Y_train[some_random_number]\n",
        "  predicted = model.predict(sample_images)\n",
        "  predicted = np.argmax(predicted, axis=1)\n",
        "  true_label = np.argmax(sample_label, axis=1)\n",
        "  fig, axs = plt.subplots(2, 2)\n",
        "  for row in range(2):\n",
        "    for col in range(2):\n",
        "      if row == 0:\n",
        "        true = true_label[row+col]\n",
        "        pred = predicted[row+col]\n",
        "        axs[row, col].imshow(sample_images[row+col])\n",
        "      else:\n",
        "        true = true_label[row+col+1]\n",
        "        pred = predicted[row+col+1]\n",
        "        axs[row, col].imshow(sample_images[row+col+1])\n",
        "      axs[row, col].set_title('True: %s\\nPredicted: %s' % (dict_label[true], dict_label[pred]))\n",
        "      axs[row, col].axis('off')"
      ],
      "execution_count": null,
      "outputs": []
    },
    {
      "cell_type": "code",
      "metadata": {
        "id": "QzZOVwVjSFxU",
        "outputId": "b5520028-3a6a-4266-cfeb-82f83ec7b5d4",
        "colab": {
          "base_uri": "https://localhost:8080/",
          "height": 296
        }
      },
      "source": [
        "predict()"
      ],
      "execution_count": null,
      "outputs": [
        {
          "output_type": "display_data",
          "data": {
            "image/png": "[encoded data removed]",
            "text/plain": [
              "<Figure size 432x288 with 4 Axes>"
            ]
          },
          "metadata": {
            "tags": []
          }
        }
      ]
    },
    {
      "cell_type": "code",
      "metadata": {
        "id": "XieDCw9RSH5h"
      },
      "source": [
        "model.save_weights('model_weights.h5')"
      ],
      "execution_count": null,
      "outputs": []
    },
    {
      "cell_type": "code",
      "metadata": {
        "id": "2l8p87VFVxAh"
      },
      "source": [],
      "execution_count": null,
      "outputs": []
    }
  ]
}