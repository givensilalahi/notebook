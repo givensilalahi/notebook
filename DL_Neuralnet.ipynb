{
  "nbformat": 4,
  "nbformat_minor": 0,
  "metadata": {
    "colab": {
      "provenance": []
    },
    "kernelspec": {
      "name": "python3",
      "display_name": "Python 3"
    }
  },
  "cells": [
    {
      "cell_type": "markdown",
      "metadata": {
        "id": "0cErFDBRRNtF"
      },
      "source": [
        "# IMPORT LIBRARY\n",
        "\n",
        "\n",
        "---\n",
        "\n",
        "\n",
        "1. Numpy adalah library python yang berisi fundamental kumputasional ilmiah seperti N dimensional array objek, fungsi matematika (aljabar,  deret fourier dan angkar random).\n",
        "2. Matplotlib adalah library untuk membuat plot 2 dimensi yang menghasikan visualisasi dari angka-angka atau satistika dengan berbagai format\n",
        "3. Keras adalah open-source neural-network atau deep learning library yang dibuat dengan python oleh manusia bukan mesin."
      ]
    },
    {
      "cell_type": "code",
      "metadata": {
        "id": "eionf5MqW8dr"
      },
      "source": [
        "import numpy as np #library array\n",
        "import matplotlib.pyplot as plt #library plot/sumbu x,y\n",
        "\n",
        "from keras.layers import Dense #import library layer\n",
        "from keras.datasets import mnist #import library default dataset\n",
        "from keras.models import Model #import library Model\n",
        "from keras.models import Sequential #import fungsi Sequential\n",
        "\n",
        "from sklearn.metrics import confusion_matrix #import Confusion Matrix function\n",
        "\n",
        "import itertools #fungsi iterasi membuat looping menjadi efisien"
      ],
      "execution_count": null,
      "outputs": []
    },
    {
      "cell_type": "markdown",
      "metadata": {
        "id": "-74ZES-_XBKU"
      },
      "source": [
        "# DATA COLLECTION\n",
        "\n",
        "---\n",
        "\n",
        "adalah proses mengumpulkan dan memastikan informasi pada variable of interest (subjek yang akan dilakukan uji coba), dengan cara yang sistematis yang memungkinkan seseorang dapat menjawab pertanyaan dari uji coba yang dilakukan, uji hipotesis, dan mengevaluasi hasil.\n",
        "> Data yang dipakai adalah data MNIST\n",
        "\n",
        "\n",
        "> Mnist adalah database yang berisi kumpulan digits angka dengan tulisan tangan.\n",
        "Kelas atau label dalam data ini berjumlah 10 dari angka 0 sampai dengan 9"
      ]
    },
    {
      "cell_type": "code",
      "metadata": {
        "id": "mW13fQarXEQr"
      },
      "source": [
        "(x_train, y_train), (x_test, y_test)  = mnist.load_data() #load dataset"
      ],
      "execution_count": null,
      "outputs": []
    },
    {
      "cell_type": "markdown",
      "metadata": {
        "id": "m6U-JExNYbqv"
      },
      "source": [
        "# DATA PREPORCESSING\n",
        "\n",
        "\n",
        "---\n",
        "\n",
        "adalah teknik data mining untuk mengubah raw data atau data kotor menjadi data yang dapat diolah sehingga data tersebut dapat dimengerti\n",
        "\n",
        "\n",
        "> Data yang dipakai merupakan gambar yang direpresentasikan menjadi multi dimensional array\n",
        "\n",
        "\n",
        "> Data MNIST adalah data yang sudah bersih dan dapat dipakai sehingga hanya diperlukan sedikit teknik untuk merapihkan data tersebut\n",
        "\n",
        "> MNIST (Modified National Institute of Standards and Technology database) merupakan database yang berisi kumpulan tulisan tangan yang biasa digunakan untuk data latih pada image processing.\n",
        "\n",
        "> Data tersebut merupakan greyscale image dimana citra memiliki skala keabuan dengan kedalaman / depth = 1\n",
        "\n"
      ]
    },
    {
      "cell_type": "code",
      "metadata": {
        "id": "pmRvm-SKmgBV",
        "outputId": "88342eb4-432e-41e3-db07-fa0052ab492c",
        "colab": {
          "base_uri": "https://localhost:8080/",
          "height": 1000
        }
      },
      "source": [
        "print('Data shape atau dimensi data : (Jumlah data, Tinggi piksel, Lebar piksel)', x_train.shape)\n",
        "print('Bentuk dari isi data : \\n')\n",
        "x_train[3]"
      ],
      "execution_count": null,
      "outputs": [
        {
          "output_type": "stream",
          "text": [
            "Data shape atau dimensi data : (Jumlah data, Tinggi piksel, Lebar piksel) (60000, 28, 28)\n",
            "Bentuk dari isi data : \n",
            "\n"
          ],
          "name": "stdout"
        },
        {
          "output_type": "execute_result",
          "data": {
            "text/plain": [
              "array([[  0,   0,   0,   0,   0,   0,   0,   0,   0,   0,   0,   0,   0,\n",
              "          0,   0,   0,   0,   0,   0,   0,   0,   0,   0,   0,   0,   0,\n",
              "          0,   0],\n",
              "       [  0,   0,   0,   0,   0,   0,   0,   0,   0,   0,   0,   0,   0,\n",
              "          0,   0,   0,   0,   0,   0,   0,   0,   0,   0,   0,   0,   0,\n",
              "          0,   0],\n",
              "       [  0,   0,   0,   0,   0,   0,   0,   0,   0,   0,   0,   0,   0,\n",
              "          0,   0,   0,   0,   0,   0,   0,   0,   0,   0,   0,   0,   0,\n",
              "          0,   0],\n",
              "       [  0,   0,   0,   0,   0,   0,   0,   0,   0,   0,   0,   0,   0,\n",
              "          0,   0,   0,   0,   0,   0,   0,   0,   0,   0,   0,   0,   0,\n",
              "          0,   0],\n",
              "       [  0,   0,   0,   0,   0,   0,   0,   0,   0,   0,   0,   0,   0,\n",
              "          0,   0,   0,   0,   0,   0,   0,   0,   0,   0,   0,   0,   0,\n",
              "          0,   0],\n",
              "       [  0,   0,   0,   0,   0,   0,   0,   0,   0,   0,   0,   0,   0,\n",
              "          0,   0,   0,   0,   0, 124, 253, 255,  63,   0,   0,   0,   0,\n",
              "          0,   0],\n",
              "       [  0,   0,   0,   0,   0,   0,   0,   0,   0,   0,   0,   0,   0,\n",
              "          0,   0,   0,   0,  96, 244, 251, 253,  62,   0,   0,   0,   0,\n",
              "          0,   0],\n",
              "       [  0,   0,   0,   0,   0,   0,   0,   0,   0,   0,   0,   0,   0,\n",
              "          0,   0,   0,   0, 127, 251, 251, 253,  62,   0,   0,   0,   0,\n",
              "          0,   0],\n",
              "       [  0,   0,   0,   0,   0,   0,   0,   0,   0,   0,   0,   0,   0,\n",
              "          0,   0,   0,  68, 236, 251, 211,  31,   8,   0,   0,   0,   0,\n",
              "          0,   0],\n",
              "       [  0,   0,   0,   0,   0,   0,   0,   0,   0,   0,   0,   0,   0,\n",
              "          0,   0,  60, 228, 251, 251,  94,   0,   0,   0,   0,   0,   0,\n",
              "          0,   0],\n",
              "       [  0,   0,   0,   0,   0,   0,   0,   0,   0,   0,   0,   0,   0,\n",
              "          0,   0, 155, 253, 253, 189,   0,   0,   0,   0,   0,   0,   0,\n",
              "          0,   0],\n",
              "       [  0,   0,   0,   0,   0,   0,   0,   0,   0,   0,   0,   0,   0,\n",
              "          0,  20, 253, 251, 235,  66,   0,   0,   0,   0,   0,   0,   0,\n",
              "          0,   0],\n",
              "       [  0,   0,   0,   0,   0,   0,   0,   0,   0,   0,   0,   0,   0,\n",
              "         32, 205, 253, 251, 126,   0,   0,   0,   0,   0,   0,   0,   0,\n",
              "          0,   0],\n",
              "       [  0,   0,   0,   0,   0,   0,   0,   0,   0,   0,   0,   0,   0,\n",
              "        104, 251, 253, 184,  15,   0,   0,   0,   0,   0,   0,   0,   0,\n",
              "          0,   0],\n",
              "       [  0,   0,   0,   0,   0,   0,   0,   0,   0,   0,   0,   0,  80,\n",
              "        240, 251, 193,  23,   0,   0,   0,   0,   0,   0,   0,   0,   0,\n",
              "          0,   0],\n",
              "       [  0,   0,   0,   0,   0,   0,   0,   0,   0,   0,   0,  32, 253,\n",
              "        253, 253, 159,   0,   0,   0,   0,   0,   0,   0,   0,   0,   0,\n",
              "          0,   0],\n",
              "       [  0,   0,   0,   0,   0,   0,   0,   0,   0,   0,   0, 151, 251,\n",
              "        251, 251,  39,   0,   0,   0,   0,   0,   0,   0,   0,   0,   0,\n",
              "          0,   0],\n",
              "       [  0,   0,   0,   0,   0,   0,   0,   0,   0,   0,  48, 221, 251,\n",
              "        251, 172,   0,   0,   0,   0,   0,   0,   0,   0,   0,   0,   0,\n",
              "          0,   0],\n",
              "       [  0,   0,   0,   0,   0,   0,   0,   0,   0,   0, 234, 251, 251,\n",
              "        196,  12,   0,   0,   0,   0,   0,   0,   0,   0,   0,   0,   0,\n",
              "          0,   0],\n",
              "       [  0,   0,   0,   0,   0,   0,   0,   0,   0,   0, 253, 251, 251,\n",
              "         89,   0,   0,   0,   0,   0,   0,   0,   0,   0,   0,   0,   0,\n",
              "          0,   0],\n",
              "       [  0,   0,   0,   0,   0,   0,   0,   0,   0, 159, 255, 253, 253,\n",
              "         31,   0,   0,   0,   0,   0,   0,   0,   0,   0,   0,   0,   0,\n",
              "          0,   0],\n",
              "       [  0,   0,   0,   0,   0,   0,   0,   0,  48, 228, 253, 247, 140,\n",
              "          8,   0,   0,   0,   0,   0,   0,   0,   0,   0,   0,   0,   0,\n",
              "          0,   0],\n",
              "       [  0,   0,   0,   0,   0,   0,   0,   0,  64, 251, 253, 220,   0,\n",
              "          0,   0,   0,   0,   0,   0,   0,   0,   0,   0,   0,   0,   0,\n",
              "          0,   0],\n",
              "       [  0,   0,   0,   0,   0,   0,   0,   0,  64, 251, 253, 220,   0,\n",
              "          0,   0,   0,   0,   0,   0,   0,   0,   0,   0,   0,   0,   0,\n",
              "          0,   0],\n",
              "       [  0,   0,   0,   0,   0,   0,   0,   0,  24, 193, 253, 220,   0,\n",
              "          0,   0,   0,   0,   0,   0,   0,   0,   0,   0,   0,   0,   0,\n",
              "          0,   0],\n",
              "       [  0,   0,   0,   0,   0,   0,   0,   0,   0,   0,   0,   0,   0,\n",
              "          0,   0,   0,   0,   0,   0,   0,   0,   0,   0,   0,   0,   0,\n",
              "          0,   0],\n",
              "       [  0,   0,   0,   0,   0,   0,   0,   0,   0,   0,   0,   0,   0,\n",
              "          0,   0,   0,   0,   0,   0,   0,   0,   0,   0,   0,   0,   0,\n",
              "          0,   0],\n",
              "       [  0,   0,   0,   0,   0,   0,   0,   0,   0,   0,   0,   0,   0,\n",
              "          0,   0,   0,   0,   0,   0,   0,   0,   0,   0,   0,   0,   0,\n",
              "          0,   0]], dtype=uint8)"
            ]
          },
          "metadata": {
            "tags": []
          },
          "execution_count": 5
        }
      ]
    },
    {
      "cell_type": "markdown",
      "metadata": {
        "id": "13YftsvYeq7s"
      },
      "source": [
        "**RESHAPE**\n",
        "> Mengubah dimensi x_train menjadi 2 dimensi (jumlah data, vektor perkalian piksel)\n",
        "\n"
      ]
    },
    {
      "cell_type": "code",
      "metadata": {
        "id": "7pg-T-dkf3hQ"
      },
      "source": [
        "x_train = np.reshape(x_train, (x_train.shape[0], 784))\n",
        "x_test = np.reshape(x_test, (x_test.shape[0],784))"
      ],
      "execution_count": null,
      "outputs": []
    },
    {
      "cell_type": "code",
      "metadata": {
        "id": "M3d_OL_Zf7M6",
        "outputId": "4d999638-08fe-4cc0-f7fc-f5affac6af50",
        "colab": {
          "base_uri": "https://localhost:8080/",
          "height": 1000
        }
      },
      "source": [
        "print('Data yang diubah menjadi 2 dimensi :')\n",
        "x_train[1] #hasil reshape"
      ],
      "execution_count": null,
      "outputs": [
        {
          "output_type": "stream",
          "text": [
            "Data yang diubah menjadi 2 dimensi :\n"
          ],
          "name": "stdout"
        },
        {
          "output_type": "execute_result",
          "data": {
            "text/plain": [
              "array([  0,   0,   0,   0,   0,   0,   0,   0,   0,   0,   0,   0,   0,\n",
              "         0,   0,   0,   0,   0,   0,   0,   0,   0,   0,   0,   0,   0,\n",
              "         0,   0,   0,   0,   0,   0,   0,   0,   0,   0,   0,   0,   0,\n",
              "         0,   0,   0,   0,   0,   0,   0,   0,   0,   0,   0,   0,   0,\n",
              "         0,   0,   0,   0,   0,   0,   0,   0,   0,   0,   0,   0,   0,\n",
              "         0,   0,   0,   0,   0,   0,   0,   0,   0,   0,   0,   0,   0,\n",
              "         0,   0,   0,   0,   0,   0,   0,   0,   0,   0,   0,   0,   0,\n",
              "         0,   0,   0,   0,   0,   0,   0,   0,   0,   0,   0,   0,   0,\n",
              "         0,   0,   0,   0,   0,   0,   0,   0,   0,   0,   0,   0,   0,\n",
              "         0,   0,   0,   0,   0,   0,   0,   0,   0,   0,  51, 159, 253,\n",
              "       159,  50,   0,   0,   0,   0,   0,   0,   0,   0,   0,   0,   0,\n",
              "         0,   0,   0,   0,   0,   0,   0,   0,   0,   0,   0,  48, 238,\n",
              "       252, 252, 252, 237,   0,   0,   0,   0,   0,   0,   0,   0,   0,\n",
              "         0,   0,   0,   0,   0,   0,   0,   0,   0,   0,   0,   0,  54,\n",
              "       227, 253, 252, 239, 233, 252,  57,   6,   0,   0,   0,   0,   0,\n",
              "         0,   0,   0,   0,   0,   0,   0,   0,   0,   0,   0,   0,  10,\n",
              "        60, 224, 252, 253, 252, 202,  84, 252, 253, 122,   0,   0,   0,\n",
              "         0,   0,   0,   0,   0,   0,   0,   0,   0,   0,   0,   0,   0,\n",
              "         0, 163, 252, 252, 252, 253, 252, 252,  96, 189, 253, 167,   0,\n",
              "         0,   0,   0,   0,   0,   0,   0,   0,   0,   0,   0,   0,   0,\n",
              "         0,   0,  51, 238, 253, 253, 190, 114, 253, 228,  47,  79, 255,\n",
              "       168,   0,   0,   0,   0,   0,   0,   0,   0,   0,   0,   0,   0,\n",
              "         0,   0,   0,  48, 238, 252, 252, 179,  12,  75, 121,  21,   0,\n",
              "         0, 253, 243,  50,   0,   0,   0,   0,   0,   0,   0,   0,   0,\n",
              "         0,   0,   0,   0,  38, 165, 253, 233, 208,  84,   0,   0,   0,\n",
              "         0,   0,   0, 253, 252, 165,   0,   0,   0,   0,   0,   0,   0,\n",
              "         0,   0,   0,   0,   0,   7, 178, 252, 240,  71,  19,  28,   0,\n",
              "         0,   0,   0,   0,   0, 253, 252, 195,   0,   0,   0,   0,   0,\n",
              "         0,   0,   0,   0,   0,   0,   0,  57, 252, 252,  63,   0,   0,\n",
              "         0,   0,   0,   0,   0,   0,   0, 253, 252, 195,   0,   0,   0,\n",
              "         0,   0,   0,   0,   0,   0,   0,   0,   0, 198, 253, 190,   0,\n",
              "         0,   0,   0,   0,   0,   0,   0,   0,   0, 255, 253, 196,   0,\n",
              "         0,   0,   0,   0,   0,   0,   0,   0,   0,   0,  76, 246, 252,\n",
              "       112,   0,   0,   0,   0,   0,   0,   0,   0,   0,   0, 253, 252,\n",
              "       148,   0,   0,   0,   0,   0,   0,   0,   0,   0,   0,   0,  85,\n",
              "       252, 230,  25,   0,   0,   0,   0,   0,   0,   0,   0,   7, 135,\n",
              "       253, 186,  12,   0,   0,   0,   0,   0,   0,   0,   0,   0,   0,\n",
              "         0,  85, 252, 223,   0,   0,   0,   0,   0,   0,   0,   0,   7,\n",
              "       131, 252, 225,  71,   0,   0,   0,   0,   0,   0,   0,   0,   0,\n",
              "         0,   0,   0,  85, 252, 145,   0,   0,   0,   0,   0,   0,   0,\n",
              "        48, 165, 252, 173,   0,   0,   0,   0,   0,   0,   0,   0,   0,\n",
              "         0,   0,   0,   0,   0,  86, 253, 225,   0,   0,   0,   0,   0,\n",
              "         0, 114, 238, 253, 162,   0,   0,   0,   0,   0,   0,   0,   0,\n",
              "         0,   0,   0,   0,   0,   0,   0,  85, 252, 249, 146,  48,  29,\n",
              "        85, 178, 225, 253, 223, 167,  56,   0,   0,   0,   0,   0,   0,\n",
              "         0,   0,   0,   0,   0,   0,   0,   0,   0,  85, 252, 252, 252,\n",
              "       229, 215, 252, 252, 252, 196, 130,   0,   0,   0,   0,   0,   0,\n",
              "         0,   0,   0,   0,   0,   0,   0,   0,   0,   0,   0,  28, 199,\n",
              "       252, 252, 253, 252, 252, 233, 145,   0,   0,   0,   0,   0,   0,\n",
              "         0,   0,   0,   0,   0,   0,   0,   0,   0,   0,   0,   0,   0,\n",
              "         0,  25, 128, 252, 253, 252, 141,  37,   0,   0,   0,   0,   0,\n",
              "         0,   0,   0,   0,   0,   0,   0,   0,   0,   0,   0,   0,   0,\n",
              "         0,   0,   0,   0,   0,   0,   0,   0,   0,   0,   0,   0,   0,\n",
              "         0,   0,   0,   0,   0,   0,   0,   0,   0,   0,   0,   0,   0,\n",
              "         0,   0,   0,   0,   0,   0,   0,   0,   0,   0,   0,   0,   0,\n",
              "         0,   0,   0,   0,   0,   0,   0,   0,   0,   0,   0,   0,   0,\n",
              "         0,   0,   0,   0,   0,   0,   0,   0,   0,   0,   0,   0,   0,\n",
              "         0,   0,   0,   0,   0,   0,   0,   0,   0,   0,   0,   0,   0,\n",
              "         0,   0,   0,   0,   0,   0,   0,   0,   0,   0,   0,   0,   0,\n",
              "         0,   0,   0,   0,   0,   0,   0,   0,   0,   0,   0,   0,   0,\n",
              "         0,   0,   0,   0], dtype=uint8)"
            ]
          },
          "metadata": {
            "tags": []
          },
          "execution_count": 7
        }
      ]
    },
    {
      "cell_type": "markdown",
      "metadata": {
        "id": "6_iwtuO9gmhe"
      },
      "source": [
        "**NORMALISASI**\n",
        "\n",
        "> Teknik pengolahan data untuk menghilangkan dan mengurangi redudansi data\n",
        "\n"
      ]
    },
    {
      "cell_type": "code",
      "metadata": {
        "id": "1Wo36q0jgAPR"
      },
      "source": [
        "#Normalisasi tingkat kecerahan (0-255) menjadi (0-1)\n",
        "x_train = x_train / 255.0\n",
        "x_test = x_test / 255.0"
      ],
      "execution_count": null,
      "outputs": []
    },
    {
      "cell_type": "markdown",
      "metadata": {
        "id": "okjB41vNhKDR"
      },
      "source": [
        "**to_categorical**\n",
        "\n",
        "> Membuat label dari setiap folder menjadi kategori dengan proses one-hot encoding\n",
        "\n",
        "> One-hot encoding adalah proses encode label dari String atau Numerik menjadi Kategori dalam bentuk one-hot vector\n",
        "\n",
        "\n",
        "> Bertujuan untuk membuat label dapat digunakan dalam ML algorithm\n",
        "\n",
        "\n",
        "\n",
        "\n"
      ]
    },
    {
      "cell_type": "code",
      "metadata": {
        "id": "tFbDhB72gG64"
      },
      "source": [
        "from keras.utils import to_categorical #membuat label folder dataset menjadi kategori / kelas-kelas\n",
        "\n",
        "y_train = to_categorical(y_train)\n",
        "y_test = to_categorical(y_test)"
      ],
      "execution_count": null,
      "outputs": []
    },
    {
      "cell_type": "code",
      "metadata": {
        "id": "4c2Vxn4GhdpC",
        "outputId": "494b5f2f-95aa-42ff-b8d4-6d305f0a03af",
        "colab": {
          "base_uri": "https://localhost:8080/",
          "height": 136
        }
      },
      "source": [
        "y_train"
      ],
      "execution_count": null,
      "outputs": [
        {
          "output_type": "execute_result",
          "data": {
            "text/plain": [
              "array([[0., 0., 0., ..., 0., 0., 0.],\n",
              "       [1., 0., 0., ..., 0., 0., 0.],\n",
              "       [0., 0., 0., ..., 0., 0., 0.],\n",
              "       ...,\n",
              "       [0., 0., 0., ..., 0., 0., 0.],\n",
              "       [0., 0., 0., ..., 0., 0., 0.],\n",
              "       [0., 0., 0., ..., 0., 1., 0.]], dtype=float32)"
            ]
          },
          "metadata": {
            "tags": []
          },
          "execution_count": 10
        }
      ]
    },
    {
      "cell_type": "markdown",
      "metadata": {
        "id": "P2QRmNIajWBS"
      },
      "source": [
        "# MODELLING\n",
        "\n",
        "\n",
        "---\n",
        "\n",
        "\n",
        "adalah proses membangun sebuah model deep learning.\n",
        "\n",
        "\n",
        "> Dalam proses membuat model, pertemuan ini dituntut untuk membuat model dari neural network dengan beberapa layer yang disebut juga MLP (Multi Layer Perceptron)\n",
        "\n",
        "![teks alternatif](https://www.mathworks.com/content/mathworks/www/en/discovery/deep-learning/jcr:content/mainParsys/band_2123350969_copy_1983242569/mainParsys/columns_1635259577/1/image_2128876021_cop_1731669336.adapt.full.high.svg/1559574988729.svg)\n",
        "\n",
        "> Inisialisasi variable input untuk layer input dengan 1 dimensi berupa vektor, kemudian diteruskan kedalam 2 hidden layers dan diklasifikasi oleh output layer.\n",
        "\n",
        "\n",
        "> Model yang dibentuk merupakan model yang berjalan secara Sequential. Model sequential adalah tumpukan layer secara linear\n",
        "\n",
        "\n",
        "\n"
      ]
    },
    {
      "cell_type": "code",
      "metadata": {
        "id": "vOy_4GM8Xbl9",
        "outputId": "244fb69f-094a-46de-92ce-c88ce9757be1",
        "colab": {
          "base_uri": "https://localhost:8080/",
          "height": 224
        }
      },
      "source": [
        "num_input = 28*28 #jumlah input vektor\n",
        "\n",
        "model = Sequential() #membuat model berurutan\n",
        "model.add(Dense(500, input_dim=num_input, activation ='relu'))\n",
        "model.add(Dense(500, activation ='relu'))\n",
        "#untuk input data sebanyak num_input= 28*28=784 vektor terhadap hidden layer 500 vektor, menggunakan fungsi aktivasi relu\n",
        "model.add(Dense(10, activation='softmax'))\n",
        "#untuk output sebanyak 10 (0-9) secara kategori dan menggunakan softmax = sigmoid tapi output lebih banyak\n",
        "\n",
        "model.compile(loss='categorical_crossentropy', #mengukur informasi yang hilang\n",
        "             optimizer='adam', #pengaturan learning rate\n",
        "             metrics=['accuracy']) #membuat melatih akurasi data\n"
      ],
      "execution_count": null,
      "outputs": [
        {
          "output_type": "stream",
          "text": [
            "WARNING: Logging before flag parsing goes to stderr.\n",
            "W0817 18:21:02.454258 140618681591680 deprecation_wrapper.py:119] From /usr/local/lib/python3.6/dist-packages/keras/backend/tensorflow_backend.py:74: The name tf.get_default_graph is deprecated. Please use tf.compat.v1.get_default_graph instead.\n",
            "\n",
            "W0817 18:21:02.480195 140618681591680 deprecation_wrapper.py:119] From /usr/local/lib/python3.6/dist-packages/keras/backend/tensorflow_backend.py:517: The name tf.placeholder is deprecated. Please use tf.compat.v1.placeholder instead.\n",
            "\n",
            "W0817 18:21:02.484910 140618681591680 deprecation_wrapper.py:119] From /usr/local/lib/python3.6/dist-packages/keras/backend/tensorflow_backend.py:4138: The name tf.random_uniform is deprecated. Please use tf.random.uniform instead.\n",
            "\n",
            "W0817 18:21:02.518748 140618681591680 deprecation_wrapper.py:119] From /usr/local/lib/python3.6/dist-packages/keras/optimizers.py:790: The name tf.train.Optimizer is deprecated. Please use tf.compat.v1.train.Optimizer instead.\n",
            "\n",
            "W0817 18:21:02.547035 140618681591680 deprecation_wrapper.py:119] From /usr/local/lib/python3.6/dist-packages/keras/backend/tensorflow_backend.py:3295: The name tf.log is deprecated. Please use tf.math.log instead.\n",
            "\n"
          ],
          "name": "stderr"
        }
      ]
    },
    {
      "cell_type": "markdown",
      "metadata": {
        "id": "-2szvXqMujkF"
      },
      "source": [
        "**TRAINING MODEL**"
      ]
    },
    {
      "cell_type": "code",
      "metadata": {
        "id": "DmykDQZUnLdu",
        "outputId": "c07b442c-40da-4db5-dd69-633f4eaf0034",
        "colab": {
          "base_uri": "https://localhost:8080/",
          "height": 649
        }
      },
      "source": [
        "hist = model.fit(x_train, y_train, #melatih data latih(x) dan target(y)\n",
        "                epochs = 15, #jumlah looping read data\n",
        "                batch_size = 200, #jumlah data yang diinput\n",
        "                validation_data=(x_test,y_test)) #melatih data validasi untuk menguji data tersebut sesuai apa tidak"
      ],
      "execution_count": null,
      "outputs": [
        {
          "output_type": "stream",
          "text": [
            "W0817 18:21:02.681912 140618681591680 deprecation.py:323] From /usr/local/lib/python3.6/dist-packages/tensorflow/python/ops/math_grad.py:1250: add_dispatch_support.<locals>.wrapper (from tensorflow.python.ops.array_ops) is deprecated and will be removed in a future version.\n",
            "Instructions for updating:\n",
            "Use tf.where in 2.0, which has the same broadcast rule as np.where\n",
            "W0817 18:21:02.740696 140618681591680 deprecation_wrapper.py:119] From /usr/local/lib/python3.6/dist-packages/keras/backend/tensorflow_backend.py:986: The name tf.assign_add is deprecated. Please use tf.compat.v1.assign_add instead.\n",
            "\n"
          ],
          "name": "stderr"
        },
        {
          "output_type": "stream",
          "text": [
            "Train on 60000 samples, validate on 10000 samples\n",
            "Epoch 1/15\n",
            "60000/60000 [==============================] - 4s 68us/step - loss: 0.3121 - acc: 0.9133 - val_loss: 0.1595 - val_acc: 0.9540\n",
            "Epoch 2/15\n",
            "60000/60000 [==============================] - 4s 64us/step - loss: 0.1274 - acc: 0.9638 - val_loss: 0.1047 - val_acc: 0.9681\n",
            "Epoch 3/15\n",
            "60000/60000 [==============================] - 4s 62us/step - loss: 0.0854 - acc: 0.9750 - val_loss: 0.0842 - val_acc: 0.9733\n",
            "Epoch 4/15\n",
            "60000/60000 [==============================] - 4s 63us/step - loss: 0.0603 - acc: 0.9828 - val_loss: 0.0846 - val_acc: 0.9741\n",
            "Epoch 5/15\n",
            "60000/60000 [==============================] - 4s 62us/step - loss: 0.0466 - acc: 0.9869 - val_loss: 0.0756 - val_acc: 0.9756\n",
            "Epoch 6/15\n",
            "60000/60000 [==============================] - 4s 63us/step - loss: 0.0361 - acc: 0.9898 - val_loss: 0.0719 - val_acc: 0.9782\n",
            "Epoch 7/15\n",
            "60000/60000 [==============================] - 4s 62us/step - loss: 0.0270 - acc: 0.9930 - val_loss: 0.0661 - val_acc: 0.9787\n",
            "Epoch 8/15\n",
            "60000/60000 [==============================] - 4s 62us/step - loss: 0.0213 - acc: 0.9946 - val_loss: 0.0576 - val_acc: 0.9817\n",
            "Epoch 9/15\n",
            "60000/60000 [==============================] - 4s 62us/step - loss: 0.0170 - acc: 0.9959 - val_loss: 0.0642 - val_acc: 0.9801\n",
            "Epoch 10/15\n",
            "60000/60000 [==============================] - 4s 62us/step - loss: 0.0127 - acc: 0.9975 - val_loss: 0.0638 - val_acc: 0.9801\n",
            "Epoch 11/15\n",
            "60000/60000 [==============================] - 4s 62us/step - loss: 0.0106 - acc: 0.9976 - val_loss: 0.0604 - val_acc: 0.9816\n",
            "Epoch 12/15\n",
            "60000/60000 [==============================] - 4s 63us/step - loss: 0.0084 - acc: 0.9985 - val_loss: 0.0626 - val_acc: 0.9816\n",
            "Epoch 13/15\n",
            "60000/60000 [==============================] - 4s 62us/step - loss: 0.0062 - acc: 0.9991 - val_loss: 0.0666 - val_acc: 0.9807\n",
            "Epoch 14/15\n",
            "60000/60000 [==============================] - 4s 62us/step - loss: 0.0061 - acc: 0.9990 - val_loss: 0.0627 - val_acc: 0.9820\n",
            "Epoch 15/15\n",
            "60000/60000 [==============================] - 4s 62us/step - loss: 0.0042 - acc: 0.9996 - val_loss: 0.0668 - val_acc: 0.9816\n"
          ],
          "name": "stdout"
        }
      ]
    },
    {
      "cell_type": "code",
      "metadata": {
        "id": "1cU-hfco1c8N"
      },
      "source": [
        "model.save_weights('model_weights.h5') #Menyimpan hasil prediksi model"
      ],
      "execution_count": null,
      "outputs": []
    },
    {
      "cell_type": "markdown",
      "metadata": {
        "id": "VB021A22u1sT"
      },
      "source": [
        "# MODEL EVALUTION\n",
        "\n",
        "\n",
        "---\n",
        "\n",
        "> Merupakan proses mengevaluasi model\n",
        "\n",
        "> Teknik yang digunakan dalam proses mengevaluasi model adalah ROC dan Confusion Matrix, pertemuan ini kita menggunakan Confusion Matrix.\n",
        "\n",
        "> Confusion Matrix merupakan salah satu metode yang dapat digunakan untuk mengukur kinerja suatu metode klasifikasi.\n",
        "\n",
        "> Berikut merupakan gambaran Confusion Matrix pada Binary Classification :\n",
        "![teks alternatif](https://miro.medium.com/max/630/1*sJJZnGduFsNxlqWLMsrmBw.png)\n",
        "\n",
        "> Untuk Multi-Classification class sendiri memiliki rumus sebagai berikut :\n",
        "![teks alternatif](http://achmatim.net/wp-content/uploads/2017/03/rumus-akurasi-2.png)\n",
        "\n",
        "> dimana :\n",
        "1. TPi adalah True Positive, yaitu jumlah data positif yang terklasifikasi dengan benar oleh sistem untuk kelas ke-i.\n",
        "2. TNi adalah True Negative, yaitu jumlah data negatif yang terklasifikasi dengan benar oleh sistem untuk kelas ke-i.\n",
        "3. FNi adalah False Negative, yaitu jumlah data negatif namun terklasifikasi salah oleh sistem untuk kelas ke-i.\n",
        "3. FPi adalah False Positive, yaitu jumlah data positif namun terklasifikasi salah oleh sistem untuk kelas ke-i\n",
        "4. i adalah jumlah kelas.\n"
      ]
    },
    {
      "cell_type": "code",
      "metadata": {
        "id": "gKkjwvkFywtY"
      },
      "source": [
        "def plot_confusion_matrix(cm, classes,\n",
        "                          normalize=False,\n",
        "                          title='Confusion matrix',\n",
        "                          cmap=plt.cm.Blues):\n",
        "    \"\"\"\n",
        "    This function prints and plots the confusion matrix.\n",
        "    Normalization can be applied by setting `normalize=True`.\n",
        "    \"\"\"\n",
        "    plt.figure(figsize = (10,10))\n",
        "    plt.imshow(cm, interpolation='nearest', cmap=cmap)\n",
        "    plt.title(title)\n",
        "    plt.colorbar()\n",
        "    tick_marks = np.arange(len(classes))\n",
        "    plt.xticks(tick_marks, classes, rotation=90)\n",
        "    plt.yticks(tick_marks, classes)\n",
        "    if normalize:\n",
        "        cm = cm.astype('float') / cm.sum(axis=1)[:, np.newaxis]\n",
        "\n",
        "    thresh = cm.max() / 2.\n",
        "    for i, j in itertools.product(range(cm.shape[0]), range(cm.shape[1])):\n",
        "        plt.text(j, i, cm[i, j],\n",
        "                 horizontalalignment=\"center\",\n",
        "                 color=\"white\" if cm[i, j] > thresh else \"black\")\n",
        "    plt.grid('off')\n",
        "    plt.tight_layout()\n",
        "    plt.ylabel('True label')\n",
        "    plt.xlabel('Predicted label')"
      ],
      "execution_count": null,
      "outputs": []
    },
    {
      "cell_type": "code",
      "metadata": {
        "id": "IUDeOyf_y1fZ",
        "outputId": "35c7c755-a5ec-46e1-d808-7c20749a01a0",
        "colab": {
          "base_uri": "https://localhost:8080/",
          "height": 780
        }
      },
      "source": [
        "list_classes = [0,1,2,3,4,5,6,7,8,9]\n",
        "Y_pred = model.predict(x_test)\n",
        "Y_pred_classes = np.argmax(Y_pred, axis = 1)\n",
        "Y_true = np.argmax(y_test, axis = 1)\n",
        "confusion_mtx = confusion_matrix(Y_true, Y_pred_classes)\n",
        "plot_confusion_matrix(confusion_mtx, classes = list_classes)"
      ],
      "execution_count": null,
      "outputs": [
        {
          "output_type": "stream",
          "text": [
            "/usr/local/lib/python3.6/dist-packages/matplotlib/cbook/__init__.py:424: MatplotlibDeprecationWarning: \n",
            "Passing one of 'on', 'true', 'off', 'false' as a boolean is deprecated; use an actual boolean (True/False) instead.\n",
            "  warn_deprecated(\"2.2\", \"Passing one of 'on', 'true', 'off', 'false' as a \"\n"
          ],
          "name": "stderr"
        },
        {
          "output_type": "display_data",
          "data": {
            "image/png": "[encoded data removed]",
            "text/plain": [
              "<Figure size 720x720 with 2 Axes>"
            ]
          },
          "metadata": {
            "tags": []
          }
        }
      ]
    },
    {
      "cell_type": "markdown",
      "metadata": {
        "id": "pU-yLY1_1HKF"
      },
      "source": [
        "**MANUAL EVALUTATION**\n",
        "\n",
        "\n",
        "---\n",
        "\n",
        "Mengevaluasi model secara manual"
      ]
    },
    {
      "cell_type": "code",
      "metadata": {
        "id": "AeYxHVbNnHrP"
      },
      "source": [
        "img = x_test[8888] #index data, data ke 8888\n",
        "predicted = model.predict(np.reshape(img, (1,784))) #data yang ditest direshape"
      ],
      "execution_count": null,
      "outputs": []
    },
    {
      "cell_type": "code",
      "metadata": {
        "id": "vI_akD5cnbZC",
        "outputId": "6a43e202-44f3-43b3-e181-6452fc87ef27",
        "colab": {
          "base_uri": "https://localhost:8080/",
          "height": 68
        }
      },
      "source": [
        "predicted #melihat probabilitas data sesuai katergori (jumlah 10 kelas)"
      ],
      "execution_count": null,
      "outputs": [
        {
          "output_type": "execute_result",
          "data": {
            "text/plain": [
              "array([[6.5205071e-11, 1.8495199e-13, 3.7522088e-09, 1.9241707e-11,\n",
              "        3.8608238e-07, 2.0215853e-11, 9.9999964e-01, 3.7142575e-16,\n",
              "        5.2926831e-13, 2.1751109e-16]], dtype=float32)"
            ]
          },
          "metadata": {
            "tags": []
          },
          "execution_count": 22
        }
      ]
    },
    {
      "cell_type": "code",
      "metadata": {
        "id": "rmWbMLqMiRyb"
      },
      "source": [
        "predictednumber = np.argmax(predicted) #mengambil probabilitas tertinggi"
      ],
      "execution_count": null,
      "outputs": []
    },
    {
      "cell_type": "code",
      "metadata": {
        "id": "blWBi78YtZha",
        "outputId": "87b50361-b1e5-4575-c444-856b99e1cb5b",
        "colab": {
          "base_uri": "https://localhost:8080/",
          "height": 34
        }
      },
      "source": [
        "predictednumber #hasil nilai yang diprediksi"
      ],
      "execution_count": null,
      "outputs": [
        {
          "output_type": "execute_result",
          "data": {
            "text/plain": [
              "6"
            ]
          },
          "metadata": {
            "tags": []
          },
          "execution_count": 24
        }
      ]
    },
    {
      "cell_type": "code",
      "metadata": {
        "id": "M7NvXQgxng0-",
        "outputId": "8f997f10-b721-4943-c0ea-acdad3b394df",
        "colab": {
          "base_uri": "https://localhost:8080/",
          "height": 34
        }
      },
      "source": [
        "np.argmax(y_test[8888]) #menampilkan label output/ truth label dari data test dengan index 8888"
      ],
      "execution_count": null,
      "outputs": [
        {
          "output_type": "execute_result",
          "data": {
            "text/plain": [
              "6"
            ]
          },
          "metadata": {
            "tags": []
          },
          "execution_count": 25
        }
      ]
    },
    {
      "cell_type": "code",
      "metadata": {
        "id": "OJVzxCH1nqAL",
        "outputId": "0078890d-db1a-47a9-8e3e-3501ee82d782",
        "colab": {
          "base_uri": "https://localhost:8080/",
          "height": 265
        }
      },
      "source": [
        "plt.imshow(np.reshape(x_test[8888], (28,28))) #menampilkan plot/sumbu gambar\n",
        "plt.axis('off')#menghilangkan sumbu x dan y\n",
        "plt.show()"
      ],
      "execution_count": null,
      "outputs": [
        {
          "output_type": "display_data",
          "data": {
            "image/png": "[encoded data removed]",
            "text/plain": [
              "<Figure size 432x288 with 1 Axes>"
            ]
          },
          "metadata": {
            "tags": []
          }
        }
      ]
    },
    {
      "cell_type": "code",
      "metadata": {
        "id": "QUpC4J6ffcwz"
      },
      "source": [],
      "execution_count": null,
      "outputs": []
    }
  ]
}