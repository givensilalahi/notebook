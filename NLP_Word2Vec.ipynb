{
  "nbformat": 4,
  "nbformat_minor": 0,
  "metadata": {
    "colab": {
      "provenance": []
    },
    "kernelspec": {
      "name": "python3",
      "display_name": "Python 3"
    }
  },
  "cells": [
    {
      "cell_type": "markdown",
      "metadata": {
        "id": "ZAGcsf89UHre"
      },
      "source": [
        "# **IMPORT LIBRARY**"
      ]
    },
    {
      "cell_type": "code",
      "metadata": {
        "id": "BbZ-nKEWUZEY",
        "outputId": "547c447b-5f0e-4110-fe0a-58755f3583f6",
        "colab": {
          "base_uri": "https://localhost:8080/",
          "height": 326
        }
      },
      "source": [
        "!pip install gensim #library gensim untuk model word2vec"
      ],
      "execution_count": null,
      "outputs": [
        {
          "output_type": "stream",
          "text": [
            "Requirement already satisfied: gensim in /usr/local/lib/python3.6/dist-packages (3.6.0)\n",
            "Requirement already satisfied: smart-open>=1.2.1 in /usr/local/lib/python3.6/dist-packages (from gensim) (1.8.4)\n",
            "Requirement already satisfied: six>=1.5.0 in /usr/local/lib/python3.6/dist-packages (from gensim) (1.12.0)\n",
            "Requirement already satisfied: numpy>=1.11.3 in /usr/local/lib/python3.6/dist-packages (from gensim) (1.16.4)\n",
            "Requirement already satisfied: scipy>=0.18.1 in /usr/local/lib/python3.6/dist-packages (from gensim) (1.3.1)\n",
            "Requirement already satisfied: boto>=2.32 in /usr/local/lib/python3.6/dist-packages (from smart-open>=1.2.1->gensim) (2.49.0)\n",
            "Requirement already satisfied: boto3 in /usr/local/lib/python3.6/dist-packages (from smart-open>=1.2.1->gensim) (1.9.205)\n",
            "Requirement already satisfied: requests in /usr/local/lib/python3.6/dist-packages (from smart-open>=1.2.1->gensim) (2.21.0)\n",
            "Requirement already satisfied: s3transfer<0.3.0,>=0.2.0 in /usr/local/lib/python3.6/dist-packages (from boto3->smart-open>=1.2.1->gensim) (0.2.1)\n",
            "Requirement already satisfied: jmespath<1.0.0,>=0.7.1 in /usr/local/lib/python3.6/dist-packages (from boto3->smart-open>=1.2.1->gensim) (0.9.4)\n",
            "Requirement already satisfied: botocore<1.13.0,>=1.12.205 in /usr/local/lib/python3.6/dist-packages (from boto3->smart-open>=1.2.1->gensim) (1.12.205)\n",
            "Requirement already satisfied: certifi>=2017.4.17 in /usr/local/lib/python3.6/dist-packages (from requests->smart-open>=1.2.1->gensim) (2019.6.16)\n",
            "Requirement already satisfied: chardet<3.1.0,>=3.0.2 in /usr/local/lib/python3.6/dist-packages (from requests->smart-open>=1.2.1->gensim) (3.0.4)\n",
            "Requirement already satisfied: idna<2.9,>=2.5 in /usr/local/lib/python3.6/dist-packages (from requests->smart-open>=1.2.1->gensim) (2.8)\n",
            "Requirement already satisfied: urllib3<1.25,>=1.21.1 in /usr/local/lib/python3.6/dist-packages (from requests->smart-open>=1.2.1->gensim) (1.24.3)\n",
            "Requirement already satisfied: docutils<0.15,>=0.10 in /usr/local/lib/python3.6/dist-packages (from botocore<1.13.0,>=1.12.205->boto3->smart-open>=1.2.1->gensim) (0.14)\n",
            "Requirement already satisfied: python-dateutil<3.0.0,>=2.1; python_version >= \"2.7\" in /usr/local/lib/python3.6/dist-packages (from botocore<1.13.0,>=1.12.205->boto3->smart-open>=1.2.1->gensim) (2.5.3)\n"
          ],
          "name": "stdout"
        }
      ]
    },
    {
      "cell_type": "code",
      "metadata": {
        "id": "wPVpYizFUFuy"
      },
      "source": [
        "import io\n",
        "import time\n",
        "from datetime import timedelta\n",
        "import gensim"
      ],
      "execution_count": null,
      "outputs": []
    },
    {
      "cell_type": "markdown",
      "metadata": {
        "id": "rYcqC2Y-UOlj"
      },
      "source": [
        "# **DATA COLLECTION**"
      ]
    },
    {
      "cell_type": "code",
      "metadata": {
        "id": "jDsapO6Amc-x",
        "outputId": "0fd1b927-4716-4a38-9186-304a5a95c3bb",
        "colab": {
          "base_uri": "https://localhost:8080/",
          "height": 289
        }
      },
      "source": [
        "!wget https://goo.gl/bXfSDa\n",
        "#!wget https://goo.gl/WXmh5f\n",
        "#!wget https://goo.gl/RXEdAk"
      ],
      "execution_count": null,
      "outputs": [
        {
          "output_type": "stream",
          "text": [
            "--2019-08-17 19:01:16--  https://goo.gl/bXfSDa\n",
            "Resolving goo.gl (goo.gl)... 74.125.142.102, 74.125.142.113, 74.125.142.139, ...\n",
            "Connecting to goo.gl (goo.gl)|74.125.142.102|:443... connected.\n",
            "HTTP request sent, awaiting response... 302 Found\n",
            "Location: http://pcai056.informatik.uni-leipzig.de/downloads/corpora/ind_mixed_2012_1M.tar.gz [following]\n",
            "--2019-08-17 19:01:16--  http://pcai056.informatik.uni-leipzig.de/downloads/corpora/ind_mixed_2012_1M.tar.gz\n",
            "Resolving pcai056.informatik.uni-leipzig.de (pcai056.informatik.uni-leipzig.de)... 139.18.2.216\n",
            "Connecting to pcai056.informatik.uni-leipzig.de (pcai056.informatik.uni-leipzig.de)|139.18.2.216|:80... connected.\n",
            "HTTP request sent, awaiting response... 200 OK\n",
            "Length: 192660758 (184M) [application/x-gzip]\n",
            "Saving to: ‘bXfSDa’\n",
            "\n",
            "bXfSDa              100%[===================>] 183.74M  14.0MB/s    in 23s     \n",
            "\n",
            "2019-08-17 19:01:39 (8.09 MB/s) - ‘bXfSDa’ saved [192660758/192660758]\n",
            "\n"
          ],
          "name": "stdout"
        }
      ]
    },
    {
      "cell_type": "code",
      "metadata": {
        "id": "sxw-CxGWnS0s",
        "outputId": "9e521612-cb12-4586-b25c-637bd9d7214c",
        "colab": {
          "base_uri": "https://localhost:8080/",
          "height": 153
        }
      },
      "source": [
        "#nama folder sesuai degan folder yang di download\n",
        "#bXfSDa            100%[===================>] 183.74M  3.70MB/s    in 45s\n",
        "\n",
        "!tar -xzvf bXfSDa\n",
        "#!tar -xzvf WXmh5f\n",
        "#!tar -xzvf RXEdAk"
      ],
      "execution_count": null,
      "outputs": [
        {
          "output_type": "stream",
          "text": [
            "ind_mixed_2012_1M-co_n.txt\n",
            "ind_mixed_2012_1M-co_s.txt\n",
            "ind_mixed_2012_1M-inv_so.txt\n",
            "ind_mixed_2012_1M-inv_w.txt\n",
            "ind_mixed_2012_1M-sentences.txt\n",
            "ind_mixed_2012_1M-sources.txt\n",
            "ind_mixed_2012_1M-words.txt\n",
            "ind_mixed_2012_1M-meta.txt\n"
          ],
          "name": "stdout"
        }
      ]
    },
    {
      "cell_type": "markdown",
      "metadata": {
        "id": "xCl3xOJZVAIy"
      },
      "source": [
        "# **DATA VISUALIZATION**"
      ]
    },
    {
      "cell_type": "code",
      "metadata": {
        "id": "8AjtfL1vWlxl"
      },
      "source": [
        "#!cat ind_mixed_2012_1M-sentences.txt"
      ],
      "execution_count": null,
      "outputs": []
    },
    {
      "cell_type": "markdown",
      "metadata": {
        "id": "5qsIjMrbVPdj"
      },
      "source": [
        "# **DATA PREPROCESSING**\n",
        "\n",
        "*   **Memasukan seluruh dataset kedalam 1 file bernama corpus.txt**\n",
        "\n"
      ]
    },
    {
      "cell_type": "code",
      "metadata": {
        "id": "YmCS3FLKuTtZ"
      },
      "source": [
        "# corpora = gensim.corpora.TextCorpus('ind_mixed_2012_1M-sentences.txt')\n",
        "# article_count = 0\n",
        "# with io.open('corpus.txt', 'a') as wiki_text:\n",
        "\n",
        "#     wiki_text.write(\" \".join(map(str, text)) + '\\n')\n",
        "#     article_count += 1\n",
        "\n",
        "#     if article_count % 10000 == 0:\n",
        "#       print('{} articles processed'.format(article_count))\n",
        "\n",
        "#   print('total: {} articles'.format(article_count))"
      ],
      "execution_count": null,
      "outputs": []
    },
    {
      "cell_type": "code",
      "metadata": {
        "id": "QXO6VnUHwkK2",
        "outputId": "b5ec42c7-4ca8-483d-d5ed-9ed60c6ef495",
        "colab": {
          "base_uri": "https://localhost:8080/",
          "height": 1000
        }
      },
      "source": [
        "corpora = gensim.corpora.TextCorpus('ind_mixed_2012_1M-sentences.txt')\n",
        "article_count = 0\n",
        "with io.open('corpus.txt', 'a') as wiki_text:\n",
        "  for text in corpora.get_texts():\n",
        "\n",
        "    wiki_text.write(\" \".join(map(str, text)) + '\\n')\n",
        "    article_count += 1\n",
        "\n",
        "    if article_count % 10000 == 0:\n",
        "      print('{} articles processed'.format(article_count))\n",
        "\n",
        "  print('total: {} articles'.format(article_count))"
      ],
      "execution_count": null,
      "outputs": [
        {
          "output_type": "stream",
          "text": [
            "/usr/local/lib/python3.6/dist-packages/smart_open/smart_open_lib.py:398: UserWarning: This function is deprecated, use smart_open.open instead. See the migration notes for details: https://github.com/RaRe-Technologies/smart_open/blob/master/README.rst#migrating-to-the-new-open-function\n",
            "  'See the migration notes for details: %s' % _MIGRATION_NOTES_URL\n"
          ],
          "name": "stderr"
        },
        {
          "output_type": "stream",
          "text": [
            "10000 articles processed\n",
            "20000 articles processed\n",
            "30000 articles processed\n",
            "40000 articles processed\n",
            "50000 articles processed\n",
            "60000 articles processed\n",
            "70000 articles processed\n",
            "80000 articles processed\n",
            "90000 articles processed\n",
            "100000 articles processed\n",
            "110000 articles processed\n",
            "120000 articles processed\n",
            "130000 articles processed\n",
            "140000 articles processed\n",
            "150000 articles processed\n",
            "160000 articles processed\n",
            "170000 articles processed\n",
            "180000 articles processed\n",
            "190000 articles processed\n",
            "200000 articles processed\n",
            "210000 articles processed\n",
            "220000 articles processed\n",
            "230000 articles processed\n",
            "240000 articles processed\n",
            "250000 articles processed\n",
            "260000 articles processed\n",
            "270000 articles processed\n",
            "280000 articles processed\n",
            "290000 articles processed\n",
            "300000 articles processed\n",
            "310000 articles processed\n",
            "320000 articles processed\n",
            "330000 articles processed\n",
            "340000 articles processed\n",
            "350000 articles processed\n",
            "360000 articles processed\n",
            "370000 articles processed\n",
            "380000 articles processed\n",
            "390000 articles processed\n",
            "400000 articles processed\n",
            "410000 articles processed\n",
            "420000 articles processed\n",
            "430000 articles processed\n",
            "440000 articles processed\n",
            "450000 articles processed\n",
            "460000 articles processed\n",
            "470000 articles processed\n",
            "480000 articles processed\n",
            "490000 articles processed\n",
            "500000 articles processed\n",
            "510000 articles processed\n",
            "520000 articles processed\n",
            "530000 articles processed\n",
            "540000 articles processed\n",
            "550000 articles processed\n",
            "560000 articles processed\n",
            "570000 articles processed\n",
            "580000 articles processed\n",
            "590000 articles processed\n",
            "600000 articles processed\n",
            "610000 articles processed\n",
            "620000 articles processed\n",
            "630000 articles processed\n",
            "640000 articles processed\n",
            "650000 articles processed\n",
            "660000 articles processed\n",
            "670000 articles processed\n",
            "680000 articles processed\n",
            "690000 articles processed\n",
            "700000 articles processed\n",
            "710000 articles processed\n",
            "720000 articles processed\n",
            "730000 articles processed\n",
            "740000 articles processed\n",
            "750000 articles processed\n",
            "760000 articles processed\n",
            "770000 articles processed\n",
            "780000 articles processed\n",
            "790000 articles processed\n",
            "800000 articles processed\n",
            "810000 articles processed\n",
            "820000 articles processed\n",
            "830000 articles processed\n",
            "840000 articles processed\n",
            "850000 articles processed\n",
            "860000 articles processed\n",
            "870000 articles processed\n",
            "880000 articles processed\n",
            "890000 articles processed\n",
            "900000 articles processed\n",
            "910000 articles processed\n",
            "920000 articles processed\n",
            "930000 articles processed\n",
            "940000 articles processed\n",
            "950000 articles processed\n",
            "960000 articles processed\n",
            "970000 articles processed\n",
            "980000 articles processed\n",
            "990000 articles processed\n",
            "1000000 articles processed\n",
            "total: 1000000 articles\n"
          ],
          "name": "stdout"
        }
      ]
    },
    {
      "cell_type": "code",
      "metadata": {
        "id": "I7By1c0Sy3ki"
      },
      "source": [
        "# corpora = gensim.corpora.TextCorpus('ind-id_web_2015_1M/ind-id_web_2015_1M-sentences.txt')\n",
        "# article_count = 0\n",
        "# with io.open('corpus.txt', 'a') as wiki_text:\n",
        "#   for text in corpora.get_texts():\n",
        "\n",
        "#     wiki_text.write(\" \".join(map(str, text)) + '\\n')\n",
        "#     article_count += 1\n",
        "\n",
        "#     if article_count % 10000 == 0:\n",
        "#       print('{} articles processed'.format(article_count))\n",
        "\n",
        "#   print('total: {} articles'.format(article_count))"
      ],
      "execution_count": null,
      "outputs": []
    },
    {
      "cell_type": "markdown",
      "metadata": {
        "id": "WKF7ReH0Vg9R"
      },
      "source": [
        "# **MODEL TRAINING**\n",
        "\n",
        "*   **WORD2VEC**\n",
        "\n"
      ]
    },
    {
      "cell_type": "code",
      "metadata": {
        "id": "9N1vU0RczrVJ",
        "outputId": "a9e5a738-c466-4500-8fab-118b242a1bdf",
        "colab": {
          "base_uri": "https://localhost:8080/",
          "height": 105
        }
      },
      "source": [
        "import time\n",
        "import multiprocessing\n",
        "from datetime import timedelta\n",
        "\n",
        "from gensim.models import word2vec\n",
        "\n",
        "start_time = time.time()\n",
        "print('Training Word2Vec Model...')\n",
        "sentences = word2vec.LineSentence('corpus.txt')\n",
        "id_w2v = word2vec.Word2Vec(sentences, size=300, workers=16)\n",
        "id_w2v.save('model_word2vec_300_model')\n",
        "finish_time = time.time()\n",
        "\n",
        "print('Finished. Elapsed time: {}'\n",
        "      .format(timedelta(seconds=finish_time-start_time)))"
      ],
      "execution_count": null,
      "outputs": [
        {
          "output_type": "stream",
          "text": [
            "Training Word2Vec Model...\n"
          ],
          "name": "stdout"
        },
        {
          "output_type": "stream",
          "text": [
            "/usr/local/lib/python3.6/dist-packages/smart_open/smart_open_lib.py:398: UserWarning: This function is deprecated, use smart_open.open instead. See the migration notes for details: https://github.com/RaRe-Technologies/smart_open/blob/master/README.rst#migrating-to-the-new-open-function\n",
            "  'See the migration notes for details: %s' % _MIGRATION_NOTES_URL\n"
          ],
          "name": "stderr"
        },
        {
          "output_type": "stream",
          "text": [
            "Finished. Elapsed time: 0:03:18.208471\n"
          ],
          "name": "stdout"
        }
      ]
    },
    {
      "cell_type": "markdown",
      "metadata": {
        "id": "6U2FrtfFV-09"
      },
      "source": [
        "# **WORD EMBEDDING**"
      ]
    },
    {
      "cell_type": "code",
      "metadata": {
        "id": "DhwoniD9miDe",
        "outputId": "6f9427d0-b0e6-4828-f232-5cc13a3aa536",
        "colab": {
          "base_uri": "https://localhost:8080/",
          "height": 88
        }
      },
      "source": [
        "id_w2v.wv.similarity('wanita', 'pria')"
      ],
      "execution_count": null,
      "outputs": [
        {
          "output_type": "stream",
          "text": [
            "/usr/local/lib/python3.6/dist-packages/gensim/matutils.py:737: FutureWarning: Conversion of the second argument of issubdtype from `int` to `np.signedinteger` is deprecated. In future, it will be treated as `np.int64 == np.dtype(int).type`.\n",
            "  if np.issubdtype(vec.dtype, np.int):\n"
          ],
          "name": "stderr"
        },
        {
          "output_type": "execute_result",
          "data": {
            "text/plain": [
              "0.8494238"
            ]
          },
          "metadata": {
            "tags": []
          },
          "execution_count": 10
        }
      ]
    },
    {
      "cell_type": "code",
      "metadata": {
        "id": "K09Wt3lJnvuH",
        "outputId": "bce4207f-acb9-4656-8cb9-5e1d3874b2d9",
        "colab": {
          "base_uri": "https://localhost:8080/",
          "height": 241
        }
      },
      "source": [
        "id_w2v.wv.most_similar('anjing')"
      ],
      "execution_count": null,
      "outputs": [
        {
          "output_type": "stream",
          "text": [
            "/usr/local/lib/python3.6/dist-packages/gensim/matutils.py:737: FutureWarning: Conversion of the second argument of issubdtype from `int` to `np.signedinteger` is deprecated. In future, it will be treated as `np.int64 == np.dtype(int).type`.\n",
            "  if np.issubdtype(vec.dtype, np.int):\n"
          ],
          "name": "stderr"
        },
        {
          "output_type": "execute_result",
          "data": {
            "text/plain": [
              "[('kucing', 0.6887990236282349),\n",
              " ('hewan', 0.6721947193145752),\n",
              " ('anakan', 0.6719648241996765),\n",
              " ('binatang', 0.6601535081863403),\n",
              " ('serigala', 0.6388279795646667),\n",
              " ('jantan', 0.635366678237915),\n",
              " ('babi', 0.6308603286743164),\n",
              " ('betina', 0.6273216009140015),\n",
              " ('seekor', 0.6226543188095093),\n",
              " ('ayam', 0.5935657620429993)]"
            ]
          },
          "metadata": {
            "tags": []
          },
          "execution_count": 11
        }
      ]
    },
    {
      "cell_type": "code",
      "metadata": {
        "id": "6BBn2-wL1zC5",
        "outputId": "f9b4f9e6-3fd2-42b1-99ed-1a3346163d9c",
        "colab": {
          "base_uri": "https://localhost:8080/",
          "height": 241
        }
      },
      "source": [
        "id_w2v.wv.most_similar(positive=['wanita', 'raja'], negative=['pria'])"
      ],
      "execution_count": null,
      "outputs": [
        {
          "output_type": "stream",
          "text": [
            "/usr/local/lib/python3.6/dist-packages/gensim/matutils.py:737: FutureWarning: Conversion of the second argument of issubdtype from `int` to `np.signedinteger` is deprecated. In future, it will be treated as `np.int64 == np.dtype(int).type`.\n",
            "  if np.issubdtype(vec.dtype, np.int):\n"
          ],
          "name": "stderr"
        },
        {
          "output_type": "execute_result",
          "data": {
            "text/plain": [
              "[('kaisar', 0.6513197422027588),\n",
              " ('permaisuri', 0.613387942314148),\n",
              " ('puteri', 0.5954431295394897),\n",
              " ('daud', 0.5943940281867981),\n",
              " ('ratu', 0.5832962989807129),\n",
              " ('penguasa', 0.5818011164665222),\n",
              " ('prabu', 0.5769399404525757),\n",
              " ('sultan', 0.5729524493217468),\n",
              " ('yehuda', 0.569956362247467),\n",
              " ('khalifah', 0.5610086917877197)]"
            ]
          },
          "metadata": {
            "tags": []
          },
          "execution_count": 12
        }
      ]
    },
    {
      "cell_type": "code",
      "metadata": {
        "id": "YS1D6N0ElWAc",
        "outputId": "c405a811-95a2-41cb-d400-e1f07a8c8fff",
        "colab": {
          "base_uri": "https://localhost:8080/",
          "height": 122
        }
      },
      "source": [
        "id_w2v.wv.doesnt_match(\"laki wanita perempuan pria banci\".split())"
      ],
      "execution_count": null,
      "outputs": [
        {
          "output_type": "stream",
          "text": [
            "/usr/local/lib/python3.6/dist-packages/gensim/models/keyedvectors.py:895: FutureWarning: arrays to stack must be passed as a \"sequence\" type such as list or tuple. Support for non-sequence iterables such as generators is deprecated as of NumPy 1.16 and will raise an error in the future.\n",
            "  vectors = vstack(self.word_vec(word, use_norm=True) for word in used_words).astype(REAL)\n",
            "/usr/local/lib/python3.6/dist-packages/gensim/matutils.py:737: FutureWarning: Conversion of the second argument of issubdtype from `int` to `np.signedinteger` is deprecated. In future, it will be treated as `np.int64 == np.dtype(int).type`.\n",
            "  if np.issubdtype(vec.dtype, np.int):\n"
          ],
          "name": "stderr"
        },
        {
          "output_type": "execute_result",
          "data": {
            "text/plain": [
              "'banci'"
            ]
          },
          "metadata": {
            "tags": []
          },
          "execution_count": 13
        }
      ]
    },
    {
      "cell_type": "code",
      "metadata": {
        "id": "JikkMWnN4rmJ",
        "outputId": "92309e88-bebb-4dd8-b361-ee3e7ac4d8f8",
        "colab": {
          "base_uri": "https://localhost:8080/",
          "height": 241
        }
      },
      "source": [
        "id_w2v.wv.most_similar('mereka')"
      ],
      "execution_count": null,
      "outputs": [
        {
          "output_type": "stream",
          "text": [
            "/usr/local/lib/python3.6/dist-packages/gensim/matutils.py:737: FutureWarning: Conversion of the second argument of issubdtype from `int` to `np.signedinteger` is deprecated. In future, it will be treated as `np.int64 == np.dtype(int).type`.\n",
            "  if np.issubdtype(vec.dtype, np.int):\n"
          ],
          "name": "stderr"
        },
        {
          "output_type": "execute_result",
          "data": {
            "text/plain": [
              "[('kalian', 0.6605792045593262),\n",
              " ('kita', 0.6582508683204651),\n",
              " ('anda', 0.6216943264007568),\n",
              " ('kami', 0.6153033971786499),\n",
              " ('seseorang', 0.5798623561859131),\n",
              " ('keduanya', 0.5587477684020996),\n",
              " ('pasangannya', 0.5521376132965088),\n",
              " ('kamu', 0.5457906723022461),\n",
              " ('engkau', 0.533173680305481),\n",
              " ('orang', 0.5229114294052124)]"
            ]
          },
          "metadata": {
            "tags": []
          },
          "execution_count": 14
        }
      ]
    },
    {
      "cell_type": "code",
      "metadata": {
        "id": "3-D2rj-M-pTj"
      },
      "source": [],
      "execution_count": null,
      "outputs": []
    }
  ]
}