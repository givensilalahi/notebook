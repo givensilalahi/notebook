{
  "nbformat": 4,
  "nbformat_minor": 0,
  "metadata": {
    "colab": {
      "provenance": []
    },
    "kernelspec": {
      "name": "python3",
      "display_name": "Python 3"
    }
  },
  "cells": [
    {
      "cell_type": "code",
      "metadata": {
        "id": "ZKYtjZ2HgMVX",
        "outputId": "04a73077-de68-41d4-fd62-51a08323e39b",
        "colab": {
          "base_uri": "https://localhost:8080/",
          "height": 99
        }
      },
      "source": [
        "import numpy as np #Library Numpy untuk multidimensional array dan fungsi matematika\n",
        "import matplotlib.pyplot as plt #Library matplotlib untuk membuat plotting atau sumbu\n",
        "from keras.layers import Input, Dense #Library Layers Keras dengan API untuk fungsi Input dan Dense\n",
        "from keras.models import Model #Library Model Keras dengan API untuk membuat model\n",
        "from keras.datasets import mnist #Library Datasets Keras dengan API untuk mengambil datasets MNIST"
      ],
      "execution_count": null,
      "outputs": [
        {
          "output_type": "stream",
          "text": [
            "Using TensorFlow backend.\n"
          ],
          "name": "stderr"
        },
        {
          "output_type": "display_data",
          "data": {
            "text/html": [
              "<p style=\"color: red;\">\n",
              "The default version of TensorFlow in Colab will soon switch to TensorFlow 2.x.<br>\n",
              "We recommend you <a href=\"https://www.tensorflow.org/guide/migrate\" target=\"_blank\">upgrade</a> now \n",
              "or ensure your notebook will continue to use TensorFlow 1.x via the <code>%tensorflow_version 1.x</code> magic:\n",
              "<a href=\"https://colab.research.google.com/notebooks/tensorflow_version.ipynb\" target=\"_blank\">more info</a>.</p>\n"
            ],
            "text/plain": [
              "<IPython.core.display.HTML object>"
            ]
          },
          "metadata": {
            "tags": []
          }
        }
      ]
    },
    {
      "cell_type": "code",
      "metadata": {
        "id": "6E86zSVah_ob"
      },
      "source": [
        "#Load datasets\n",
        "(x_train, y_train), (x_test, y_test) = mnist.load_data()\n",
        "#Normalisasi data\n",
        "x_train = x_train / 255.0\n",
        "x_test = x_test / 255.0"
      ],
      "execution_count": null,
      "outputs": []
    },
    {
      "cell_type": "code",
      "metadata": {
        "id": "UIELp15MrPNH",
        "outputId": "435e5d9e-e408-47bc-d25a-2caceecbbbd8",
        "colab": {
          "base_uri": "https://localhost:8080/",
          "height": 35
        }
      },
      "source": [
        "#Ukuran array data, yaitu 60000 jumlah gambar dari x_train dengan ukuran 28x28 pixel\n",
        "x_train.shape"
      ],
      "execution_count": null,
      "outputs": [
        {
          "output_type": "execute_result",
          "data": {
            "text/plain": [
              "(60000, 28, 28)"
            ]
          },
          "metadata": {
            "tags": []
          },
          "execution_count": 12
        }
      ]
    },
    {
      "cell_type": "code",
      "metadata": {
        "id": "igJkh8TQqswt"
      },
      "source": [
        "#Mengubah ukuran data dari 2 dimensi menjadi 1 dimensi / vektor\n",
        "x_train = np.reshape(x_train,\n",
        "                     (x_train.shape[0], 784))\n",
        "x_test = np.reshape(x_test,\n",
        "                     (x_test.shape[0], 784))"
      ],
      "execution_count": null,
      "outputs": []
    },
    {
      "cell_type": "code",
      "metadata": {
        "id": "KbtlFxmTrUNi",
        "outputId": "f83e2461-3e38-4059-c03d-1ce20b90ecf3",
        "colab": {
          "base_uri": "https://localhost:8080/",
          "height": 35
        }
      },
      "source": [
        "#Hasil dari mengubah ukuran data\n",
        "#Ukuran data menjadi 60000 jumlah gambar dengan jumlah vektor menjadi 784\n",
        "x_train.shape"
      ],
      "execution_count": null,
      "outputs": [
        {
          "output_type": "execute_result",
          "data": {
            "text/plain": [
              "(60000, 784)"
            ]
          },
          "metadata": {
            "tags": []
          },
          "execution_count": 14
        }
      ]
    },
    {
      "cell_type": "code",
      "metadata": {
        "id": "Ztg41egbijQO"
      },
      "source": [
        "#Pembuatan model autoencoder\n",
        "#Input layer\n",
        "inputs = Input(shape=(784,))\n",
        "#Encoder layers\n",
        "h_encode = Dense(512, activation='relu')(inputs)\n",
        "h_encode = Dense(256, activation='relu')(h_encode)\n",
        "h_encode = Dense(128, activation='relu')(h_encode)\n",
        "h_encode = Dense(64, activation='relu')(h_encode)\n",
        "\n",
        "# Coded\n",
        "coded = Dense(32, activation='relu')(h_encode)\n",
        "\n",
        "#Decoder layers\n",
        "h_decode = Dense(64, activation='relu')(coded)\n",
        "h_decode = Dense(128, activation='relu')(h_decode)\n",
        "h_decode = Dense(256, activation='relu')(h_decode)\n",
        "h_decode = Dense(512, activation='relu')(h_decode)\n",
        "#Output layers\n",
        "outputs = Dense(784, activation='sigmoid')(h_decode)\n",
        "#Penggabungan input dan output layer\n",
        "autoencoder = Model(inputs, outputs)"
      ],
      "execution_count": null,
      "outputs": []
    },
    {
      "cell_type": "code",
      "metadata": {
        "id": "0ZONPL6gdpZq",
        "outputId": "72cdf1f0-74ed-4276-850e-c67ca02a4cfb",
        "colab": {
          "base_uri": "https://localhost:8080/",
          "height": 1000
        }
      },
      "source": [
        "#Konfigurasi model dengan menggunakan optimasi proses training dengan fungsi adam dan menghitung jumlah loss dengan loss funtion yaitu mean squared error\n",
        "autoencoder.compile(optimizer='adam',\n",
        "                    loss='mean_squared_error')\n",
        "autoencoder.fit(x_train, x_train, #Melatih model dengan memberikan data latih yaitu x_train dengan tujuan x_train itu sendiri yang disebut self-supervised.\n",
        "               epochs=10, #Proses perulangan 100 kali training\n",
        "               batch_size=100,#Jumlah sample data yang dipelajari per total keseluruhan\n",
        "               shuffle=True, #Mengacak data latih\n",
        "               validation_data=(x_test, x_test)) #Validasi data sama seperti data latih"
      ],
      "execution_count": null,
      "outputs": [
        {
          "output_type": "stream",
          "text": [
            "Train on 60000 samples, validate on 10000 samples\n",
            "Epoch 1/100\n",
            "60000/60000 [==============================] - 21s 344us/step - loss: 0.0100 - val_loss: 0.0099\n",
            "Epoch 2/100\n",
            "60000/60000 [==============================] - 20s 328us/step - loss: 0.0096 - val_loss: 0.0098\n",
            "Epoch 3/100\n",
            "60000/60000 [==============================] - 20s 329us/step - loss: 0.0093 - val_loss: 0.0095\n",
            "Epoch 4/100\n",
            "60000/60000 [==============================] - 20s 327us/step - loss: 0.0090 - val_loss: 0.0095\n",
            "Epoch 5/100\n",
            "60000/60000 [==============================] - 19s 323us/step - loss: 0.0088 - val_loss: 0.0093\n",
            "Epoch 6/100\n",
            "60000/60000 [==============================] - 20s 328us/step - loss: 0.0086 - val_loss: 0.0091\n",
            "Epoch 7/100\n",
            "60000/60000 [==============================] - 20s 328us/step - loss: 0.0084 - val_loss: 0.0090\n",
            "Epoch 8/100\n",
            "60000/60000 [==============================] - 20s 327us/step - loss: 0.0082 - val_loss: 0.0087\n",
            "Epoch 9/100\n",
            "60000/60000 [==============================] - 20s 331us/step - loss: 0.0081 - val_loss: 0.0086\n",
            "Epoch 10/100\n",
            "60000/60000 [==============================] - 20s 328us/step - loss: 0.0079 - val_loss: 0.0088\n",
            "Epoch 11/100\n",
            "60000/60000 [==============================] - 20s 333us/step - loss: 0.0078 - val_loss: 0.0083\n",
            "Epoch 12/100\n",
            "60000/60000 [==============================] - 20s 334us/step - loss: 0.0077 - val_loss: 0.0081\n",
            "Epoch 13/100\n",
            "60000/60000 [==============================] - 20s 327us/step - loss: 0.0076 - val_loss: 0.0082\n",
            "Epoch 14/100\n",
            "60000/60000 [==============================] - 20s 328us/step - loss: 0.0074 - val_loss: 0.0080\n",
            "Epoch 15/100\n",
            "60000/60000 [==============================] - 20s 330us/step - loss: 0.0073 - val_loss: 0.0079\n",
            "Epoch 16/100\n",
            "60000/60000 [==============================] - 20s 329us/step - loss: 0.0073 - val_loss: 0.0079\n",
            "Epoch 17/100\n",
            "60000/60000 [==============================] - 20s 329us/step - loss: 0.0072 - val_loss: 0.0078\n",
            "Epoch 18/100\n",
            "60000/60000 [==============================] - 20s 329us/step - loss: 0.0071 - val_loss: 0.0077\n",
            "Epoch 19/100\n",
            "60000/60000 [==============================] - 20s 329us/step - loss: 0.0070 - val_loss: 0.0079\n",
            "Epoch 20/100\n",
            "60000/60000 [==============================] - 20s 331us/step - loss: 0.0069 - val_loss: 0.0078\n",
            "Epoch 21/100\n",
            "60000/60000 [==============================] - 20s 327us/step - loss: 0.0069 - val_loss: 0.0076\n",
            "Epoch 22/100\n",
            "60000/60000 [==============================] - 20s 330us/step - loss: 0.0068 - val_loss: 0.0076\n",
            "Epoch 23/100\n",
            "60000/60000 [==============================] - 20s 329us/step - loss: 0.0068 - val_loss: 0.0076\n",
            "Epoch 24/100\n",
            "60000/60000 [==============================] - 20s 334us/step - loss: 0.0067 - val_loss: 0.0076\n",
            "Epoch 25/100\n",
            "60000/60000 [==============================] - 20s 327us/step - loss: 0.0066 - val_loss: 0.0076\n",
            "Epoch 26/100\n",
            "60000/60000 [==============================] - 20s 332us/step - loss: 0.0066 - val_loss: 0.0073\n",
            "Epoch 27/100\n",
            "60000/60000 [==============================] - 20s 334us/step - loss: 0.0065 - val_loss: 0.0076\n",
            "Epoch 28/100\n",
            "60000/60000 [==============================] - 20s 330us/step - loss: 0.0065 - val_loss: 0.0074\n",
            "Epoch 29/100\n",
            "60000/60000 [==============================] - 20s 329us/step - loss: 0.0065 - val_loss: 0.0073\n",
            "Epoch 30/100\n",
            "60000/60000 [==============================] - 20s 334us/step - loss: 0.0064 - val_loss: 0.0073\n",
            "Epoch 31/100\n",
            "60000/60000 [==============================] - 20s 330us/step - loss: 0.0064 - val_loss: 0.0073\n",
            "Epoch 32/100\n",
            "60000/60000 [==============================] - 20s 332us/step - loss: 0.0063 - val_loss: 0.0073\n",
            "Epoch 33/100\n",
            "60000/60000 [==============================] - 20s 332us/step - loss: 0.0063 - val_loss: 0.0073\n",
            "Epoch 34/100\n",
            "60000/60000 [==============================] - 20s 330us/step - loss: 0.0063 - val_loss: 0.0074\n",
            "Epoch 35/100\n",
            "60000/60000 [==============================] - 20s 326us/step - loss: 0.0062 - val_loss: 0.0070\n",
            "Epoch 36/100\n",
            "60000/60000 [==============================] - 20s 325us/step - loss: 0.0062 - val_loss: 0.0069\n",
            "Epoch 37/100\n",
            "60000/60000 [==============================] - 19s 324us/step - loss: 0.0062 - val_loss: 0.0070\n",
            "Epoch 38/100\n",
            "60000/60000 [==============================] - 20s 327us/step - loss: 0.0061 - val_loss: 0.0071\n",
            "Epoch 39/100\n",
            "60000/60000 [==============================] - 20s 331us/step - loss: 0.0060 - val_loss: 0.0071\n",
            "Epoch 40/100\n",
            "60000/60000 [==============================] - 20s 334us/step - loss: 0.0060 - val_loss: 0.0071\n",
            "Epoch 41/100\n",
            "60000/60000 [==============================] - 20s 327us/step - loss: 0.0060 - val_loss: 0.0069\n",
            "Epoch 42/100\n",
            "60000/60000 [==============================] - 20s 338us/step - loss: 0.0060 - val_loss: 0.0071\n",
            "Epoch 43/100\n",
            "60000/60000 [==============================] - 20s 334us/step - loss: 0.0059 - val_loss: 0.0070\n",
            "Epoch 44/100\n",
            "60000/60000 [==============================] - 20s 335us/step - loss: 0.0059 - val_loss: 0.0069\n",
            "Epoch 45/100\n",
            "60000/60000 [==============================] - 20s 333us/step - loss: 0.0059 - val_loss: 0.0068\n",
            "Epoch 46/100\n",
            "60000/60000 [==============================] - 20s 332us/step - loss: 0.0058 - val_loss: 0.0069\n",
            "Epoch 47/100\n",
            "60000/60000 [==============================] - 20s 333us/step - loss: 0.0059 - val_loss: 0.0068\n",
            "Epoch 48/100\n",
            "60000/60000 [==============================] - 20s 332us/step - loss: 0.0058 - val_loss: 0.0068\n",
            "Epoch 49/100\n",
            "60000/60000 [==============================] - 20s 332us/step - loss: 0.0058 - val_loss: 0.0067\n",
            "Epoch 50/100\n",
            "60000/60000 [==============================] - 20s 336us/step - loss: 0.0058 - val_loss: 0.0067\n",
            "Epoch 51/100\n",
            "60000/60000 [==============================] - 20s 337us/step - loss: 0.0057 - val_loss: 0.0069\n",
            "Epoch 52/100\n",
            "60000/60000 [==============================] - 20s 338us/step - loss: 0.0057 - val_loss: 0.0067\n",
            "Epoch 53/100\n",
            "60000/60000 [==============================] - 20s 335us/step - loss: 0.0057 - val_loss: 0.0066\n",
            "Epoch 54/100\n",
            "60000/60000 [==============================] - 20s 330us/step - loss: 0.0057 - val_loss: 0.0066\n",
            "Epoch 55/100\n",
            "60000/60000 [==============================] - 20s 333us/step - loss: 0.0056 - val_loss: 0.0067\n",
            "Epoch 56/100\n",
            "60000/60000 [==============================] - 20s 337us/step - loss: 0.0056 - val_loss: 0.0066\n",
            "Epoch 57/100\n",
            "60000/60000 [==============================] - 20s 335us/step - loss: 0.0056 - val_loss: 0.0064\n",
            "Epoch 58/100\n",
            "60000/60000 [==============================] - 20s 332us/step - loss: 0.0056 - val_loss: 0.0068\n",
            "Epoch 59/100\n",
            "60000/60000 [==============================] - 20s 328us/step - loss: 0.0055 - val_loss: 0.0064\n",
            "Epoch 60/100\n",
            "60000/60000 [==============================] - 20s 330us/step - loss: 0.0055 - val_loss: 0.0068\n",
            "Epoch 61/100\n",
            "60000/60000 [==============================] - 20s 335us/step - loss: 0.0055 - val_loss: 0.0065\n",
            "Epoch 62/100\n",
            "60000/60000 [==============================] - 20s 330us/step - loss: 0.0055 - val_loss: 0.0065\n",
            "Epoch 63/100\n",
            "60000/60000 [==============================] - 20s 334us/step - loss: 0.0054 - val_loss: 0.0066\n",
            "Epoch 64/100\n",
            "60000/60000 [==============================] - 20s 328us/step - loss: 0.0054 - val_loss: 0.0064\n",
            "Epoch 65/100\n",
            "60000/60000 [==============================] - 20s 329us/step - loss: 0.0054 - val_loss: 0.0063\n",
            "Epoch 66/100\n",
            "60000/60000 [==============================] - 20s 337us/step - loss: 0.0054 - val_loss: 0.0063\n",
            "Epoch 67/100\n",
            "60000/60000 [==============================] - 20s 334us/step - loss: 0.0054 - val_loss: 0.0066\n",
            "Epoch 68/100\n",
            "60000/60000 [==============================] - 20s 334us/step - loss: 0.0053 - val_loss: 0.0063\n",
            "Epoch 69/100\n",
            "60000/60000 [==============================] - 20s 334us/step - loss: 0.0053 - val_loss: 0.0064\n",
            "Epoch 70/100\n",
            "60000/60000 [==============================] - 20s 335us/step - loss: 0.0053 - val_loss: 0.0063\n",
            "Epoch 71/100\n",
            "60000/60000 [==============================] - 20s 339us/step - loss: 0.0052 - val_loss: 0.0061\n",
            "Epoch 72/100\n",
            "60000/60000 [==============================] - 21s 346us/step - loss: 0.0052 - val_loss: 0.0063\n",
            "Epoch 73/100\n",
            "60000/60000 [==============================] - 21s 344us/step - loss: 0.0052 - val_loss: 0.0062\n",
            "Epoch 74/100\n",
            "60000/60000 [==============================] - 20s 336us/step - loss: 0.0052 - val_loss: 0.0063\n",
            "Epoch 75/100\n",
            "60000/60000 [==============================] - 20s 337us/step - loss: 0.0052 - val_loss: 0.0062\n",
            "Epoch 76/100\n",
            "60000/60000 [==============================] - 20s 331us/step - loss: 0.0052 - val_loss: 0.0063\n",
            "Epoch 77/100\n",
            "60000/60000 [==============================] - 20s 329us/step - loss: 0.0052 - val_loss: 0.0062\n",
            "Epoch 78/100\n",
            "60000/60000 [==============================] - 20s 335us/step - loss: 0.0051 - val_loss: 0.0060\n",
            "Epoch 79/100\n",
            "60000/60000 [==============================] - 20s 331us/step - loss: 0.0051 - val_loss: 0.0063\n",
            "Epoch 80/100\n",
            "60000/60000 [==============================] - 20s 336us/step - loss: 0.0051 - val_loss: 0.0061\n",
            "Epoch 81/100\n",
            "60000/60000 [==============================] - 20s 332us/step - loss: 0.0051 - val_loss: 0.0062\n",
            "Epoch 82/100\n",
            "60000/60000 [==============================] - 20s 334us/step - loss: 0.0051 - val_loss: 0.0062\n",
            "Epoch 83/100\n",
            "60000/60000 [==============================] - 20s 332us/step - loss: 0.0051 - val_loss: 0.0060\n",
            "Epoch 84/100\n",
            "60000/60000 [==============================] - 20s 333us/step - loss: 0.0051 - val_loss: 0.0060\n",
            "Epoch 85/100\n",
            "60000/60000 [==============================] - 20s 334us/step - loss: 0.0050 - val_loss: 0.0061\n",
            "Epoch 86/100\n",
            "60000/60000 [==============================] - 20s 335us/step - loss: 0.0050 - val_loss: 0.0061\n",
            "Epoch 87/100\n",
            "60000/60000 [==============================] - 20s 333us/step - loss: 0.0050 - val_loss: 0.0062\n",
            "Epoch 88/100\n",
            "60000/60000 [==============================] - 20s 339us/step - loss: 0.0050 - val_loss: 0.0060\n",
            "Epoch 89/100\n",
            "55500/60000 [==========================>...] - ETA: 1s - loss: 0.0050"
          ],
          "name": "stdout"
        }
      ]
    },
    {
      "cell_type": "code",
      "metadata": {
        "id": "4H2FAecLdsWv"
      },
      "source": [
        "#Menghasilkan sample output dari input\n",
        "predicted = autoencoder.predict(x_test)"
      ],
      "execution_count": null,
      "outputs": []
    },
    {
      "cell_type": "code",
      "metadata": {
        "id": "V1rFgcJKd4PX",
        "outputId": "38d57474-f80a-466e-8b2f-26be5d10f7f2",
        "colab": {
          "base_uri": "https://localhost:8080/",
          "height": 268
        }
      },
      "source": [
        "n = 10 #Sample output berjumlah 10 secara random\n",
        "plt.figure(figsize=(20,4)) #Jarak ukuran gambar\n",
        "\n",
        "#Visualisasi gambar dari data test dan data predict\n",
        "for i in range(n):\n",
        "    ax = plt.subplot(2, n, i+1)\n",
        "    plt.imshow(x_test[i].reshape(28, 28))\n",
        "    plt.gray()\n",
        "    ax.get_xaxis().set_visible(False)\n",
        "    ax.get_yaxis().set_visible(False)\n",
        "\n",
        "    ax = plt.subplot(2, n, i + 1 + n)\n",
        "    plt.imshow(predicted[i].reshape(28, 28))\n",
        "    plt.gray()\n",
        "    ax.get_xaxis().set_visible(False)\n",
        "    ax.get_yaxis().set_visible(False)\n",
        "\n",
        "plt.show() #Menampilkan gambar"
      ],
      "execution_count": null,
      "outputs": [
        {
          "output_type": "display_data",
          "data": {
            "image/png": "[encoded data removed]",
            "text/plain": [
              "<Figure size 1440x288 with 20 Axes>"
            ]
          },
          "metadata": {
            "tags": []
          }
        }
      ]
    },
    {
      "cell_type": "code",
      "metadata": {
        "id": "jFPP9SfVTGGE"
      },
      "source": [],
      "execution_count": null,
      "outputs": []
    }
  ]
}